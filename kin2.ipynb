{
 "metadata": {
  "language_info": {
   "codemirror_mode": {
    "name": "ipython",
    "version": 3
   },
   "file_extension": ".py",
   "mimetype": "text/x-python",
   "name": "python",
   "nbconvert_exporter": "python",
   "pygments_lexer": "ipython3",
   "version": "3.8.3-final"
  },
  "orig_nbformat": 2,
  "kernelspec": {
   "name": "python3",
   "display_name": "Python 3",
   "language": "python"
  }
 },
 "nbformat": 4,
 "nbformat_minor": 2,
 "cells": [
  {
   "cell_type": "code",
   "execution_count": 43,
   "metadata": {},
   "outputs": [],
   "source": [
    "import getNewReading as gnr\n",
    "import kinneretDrawGraph as kdg\n",
    "import pandas as pd\n",
    "import math"
   ]
  },
  {
   "cell_type": "code",
   "execution_count": 41,
   "metadata": {},
   "outputs": [
    {
     "output_type": "execute_result",
     "data": {
      "text/plain": [
       "              level   1day   7day  1month\n",
       "date                                     \n",
       "2020-12-24 -209.885  0.005  0.020   0.100\n",
       "2020-12-23 -209.890  0.010  0.050   0.100\n",
       "2020-12-22 -209.895  0.010  0.080   0.095\n",
       "2020-12-21 -209.895  0.015  0.090   0.105\n",
       "2020-12-20 -209.900  0.015  0.090   0.115\n",
       "...             ...    ...    ...     ...\n",
       "1966-11-01 -210.390  0.505  0.505   0.385\n",
       "1966-10-15 -210.320  0.435  0.435   0.245\n",
       "1966-10-01 -210.270  0.385  0.385   0.135\n",
       "1966-09-15 -210.130  0.245  0.245   0.135\n",
       "1966-09-01 -210.020  0.135  0.135   0.135\n",
       "\n",
       "[9250 rows x 4 columns]"
      ],
      "text/html": "<div>\n<style scoped>\n    .dataframe tbody tr th:only-of-type {\n        vertical-align: middle;\n    }\n\n    .dataframe tbody tr th {\n        vertical-align: top;\n    }\n\n    .dataframe thead th {\n        text-align: right;\n    }\n</style>\n<table border=\"1\" class=\"dataframe\">\n  <thead>\n    <tr style=\"text-align: right;\">\n      <th></th>\n      <th>level</th>\n      <th>1day</th>\n      <th>7day</th>\n      <th>1month</th>\n    </tr>\n    <tr>\n      <th>date</th>\n      <th></th>\n      <th></th>\n      <th></th>\n      <th></th>\n    </tr>\n  </thead>\n  <tbody>\n    <tr>\n      <th>2020-12-24</th>\n      <td>-209.885</td>\n      <td>0.005</td>\n      <td>0.020</td>\n      <td>0.100</td>\n    </tr>\n    <tr>\n      <th>2020-12-23</th>\n      <td>-209.890</td>\n      <td>0.010</td>\n      <td>0.050</td>\n      <td>0.100</td>\n    </tr>\n    <tr>\n      <th>2020-12-22</th>\n      <td>-209.895</td>\n      <td>0.010</td>\n      <td>0.080</td>\n      <td>0.095</td>\n    </tr>\n    <tr>\n      <th>2020-12-21</th>\n      <td>-209.895</td>\n      <td>0.015</td>\n      <td>0.090</td>\n      <td>0.105</td>\n    </tr>\n    <tr>\n      <th>2020-12-20</th>\n      <td>-209.900</td>\n      <td>0.015</td>\n      <td>0.090</td>\n      <td>0.115</td>\n    </tr>\n    <tr>\n      <th>...</th>\n      <td>...</td>\n      <td>...</td>\n      <td>...</td>\n      <td>...</td>\n    </tr>\n    <tr>\n      <th>1966-11-01</th>\n      <td>-210.390</td>\n      <td>0.505</td>\n      <td>0.505</td>\n      <td>0.385</td>\n    </tr>\n    <tr>\n      <th>1966-10-15</th>\n      <td>-210.320</td>\n      <td>0.435</td>\n      <td>0.435</td>\n      <td>0.245</td>\n    </tr>\n    <tr>\n      <th>1966-10-01</th>\n      <td>-210.270</td>\n      <td>0.385</td>\n      <td>0.385</td>\n      <td>0.135</td>\n    </tr>\n    <tr>\n      <th>1966-09-15</th>\n      <td>-210.130</td>\n      <td>0.245</td>\n      <td>0.245</td>\n      <td>0.135</td>\n    </tr>\n    <tr>\n      <th>1966-09-01</th>\n      <td>-210.020</td>\n      <td>0.135</td>\n      <td>0.135</td>\n      <td>0.135</td>\n    </tr>\n  </tbody>\n</table>\n<p>9250 rows × 4 columns</p>\n</div>"
     },
     "metadata": {},
     "execution_count": 41
    }
   ],
   "source": [
    "df = gnr.importReadings()\n",
    "df"
   ]
  },
  {
   "cell_type": "code",
   "execution_count": 38,
   "metadata": {},
   "outputs": [
    {
     "output_type": "error",
     "ename": "KeyError",
     "evalue": "\"['1day' '7day' '1month'] not found in axis\"",
     "traceback": [
      "\u001b[0;31m---------------------------------------------------------------------------\u001b[0m",
      "\u001b[0;31mKeyError\u001b[0m                                  Traceback (most recent call last)",
      "\u001b[0;32m<ipython-input-38-2fad1c592d49>\u001b[0m in \u001b[0;36m<module>\u001b[0;34m\u001b[0m\n\u001b[1;32m      1\u001b[0m \u001b[0;31m# Delete all the calculated values\u001b[0m\u001b[0;34m\u001b[0m\u001b[0;34m\u001b[0m\u001b[0;34m\u001b[0m\u001b[0m\n\u001b[0;32m----> 2\u001b[0;31m \u001b[0mdf\u001b[0m\u001b[0;34m.\u001b[0m\u001b[0mdrop\u001b[0m\u001b[0;34m(\u001b[0m\u001b[0mcolumns\u001b[0m\u001b[0;34m=\u001b[0m\u001b[0;34m[\u001b[0m\u001b[0;34m'1day'\u001b[0m\u001b[0;34m,\u001b[0m\u001b[0;34m'7day'\u001b[0m\u001b[0;34m,\u001b[0m\u001b[0;34m'1month'\u001b[0m\u001b[0;34m]\u001b[0m\u001b[0;34m,\u001b[0m\u001b[0minplace\u001b[0m\u001b[0;34m=\u001b[0m\u001b[0;32mTrue\u001b[0m\u001b[0;34m)\u001b[0m\u001b[0;34m\u001b[0m\u001b[0;34m\u001b[0m\u001b[0m\n\u001b[0m\u001b[1;32m      3\u001b[0m \u001b[0mdf\u001b[0m\u001b[0;34m\u001b[0m\u001b[0;34m\u001b[0m\u001b[0m\n",
      "\u001b[0;32m~/opt/anaconda3/lib/python3.8/site-packages/pandas/core/frame.py\u001b[0m in \u001b[0;36mdrop\u001b[0;34m(self, labels, axis, index, columns, level, inplace, errors)\u001b[0m\n\u001b[1;32m   4161\u001b[0m                 \u001b[0mweight\u001b[0m  \u001b[0;36m1.0\u001b[0m     \u001b[0;36m0.8\u001b[0m\u001b[0;34m\u001b[0m\u001b[0;34m\u001b[0m\u001b[0m\n\u001b[1;32m   4162\u001b[0m         \"\"\"\n\u001b[0;32m-> 4163\u001b[0;31m         return super().drop(\n\u001b[0m\u001b[1;32m   4164\u001b[0m             \u001b[0mlabels\u001b[0m\u001b[0;34m=\u001b[0m\u001b[0mlabels\u001b[0m\u001b[0;34m,\u001b[0m\u001b[0;34m\u001b[0m\u001b[0;34m\u001b[0m\u001b[0m\n\u001b[1;32m   4165\u001b[0m             \u001b[0maxis\u001b[0m\u001b[0;34m=\u001b[0m\u001b[0maxis\u001b[0m\u001b[0;34m,\u001b[0m\u001b[0;34m\u001b[0m\u001b[0;34m\u001b[0m\u001b[0m\n",
      "\u001b[0;32m~/opt/anaconda3/lib/python3.8/site-packages/pandas/core/generic.py\u001b[0m in \u001b[0;36mdrop\u001b[0;34m(self, labels, axis, index, columns, level, inplace, errors)\u001b[0m\n\u001b[1;32m   3885\u001b[0m         \u001b[0;32mfor\u001b[0m \u001b[0maxis\u001b[0m\u001b[0;34m,\u001b[0m \u001b[0mlabels\u001b[0m \u001b[0;32min\u001b[0m \u001b[0maxes\u001b[0m\u001b[0;34m.\u001b[0m\u001b[0mitems\u001b[0m\u001b[0;34m(\u001b[0m\u001b[0;34m)\u001b[0m\u001b[0;34m:\u001b[0m\u001b[0;34m\u001b[0m\u001b[0;34m\u001b[0m\u001b[0m\n\u001b[1;32m   3886\u001b[0m             \u001b[0;32mif\u001b[0m \u001b[0mlabels\u001b[0m \u001b[0;32mis\u001b[0m \u001b[0;32mnot\u001b[0m \u001b[0;32mNone\u001b[0m\u001b[0;34m:\u001b[0m\u001b[0;34m\u001b[0m\u001b[0;34m\u001b[0m\u001b[0m\n\u001b[0;32m-> 3887\u001b[0;31m                 \u001b[0mobj\u001b[0m \u001b[0;34m=\u001b[0m \u001b[0mobj\u001b[0m\u001b[0;34m.\u001b[0m\u001b[0m_drop_axis\u001b[0m\u001b[0;34m(\u001b[0m\u001b[0mlabels\u001b[0m\u001b[0;34m,\u001b[0m \u001b[0maxis\u001b[0m\u001b[0;34m,\u001b[0m \u001b[0mlevel\u001b[0m\u001b[0;34m=\u001b[0m\u001b[0mlevel\u001b[0m\u001b[0;34m,\u001b[0m \u001b[0merrors\u001b[0m\u001b[0;34m=\u001b[0m\u001b[0merrors\u001b[0m\u001b[0;34m)\u001b[0m\u001b[0;34m\u001b[0m\u001b[0;34m\u001b[0m\u001b[0m\n\u001b[0m\u001b[1;32m   3888\u001b[0m \u001b[0;34m\u001b[0m\u001b[0m\n\u001b[1;32m   3889\u001b[0m         \u001b[0;32mif\u001b[0m \u001b[0minplace\u001b[0m\u001b[0;34m:\u001b[0m\u001b[0;34m\u001b[0m\u001b[0;34m\u001b[0m\u001b[0m\n",
      "\u001b[0;32m~/opt/anaconda3/lib/python3.8/site-packages/pandas/core/generic.py\u001b[0m in \u001b[0;36m_drop_axis\u001b[0;34m(self, labels, axis, level, errors)\u001b[0m\n\u001b[1;32m   3919\u001b[0m                 \u001b[0mnew_axis\u001b[0m \u001b[0;34m=\u001b[0m \u001b[0maxis\u001b[0m\u001b[0;34m.\u001b[0m\u001b[0mdrop\u001b[0m\u001b[0;34m(\u001b[0m\u001b[0mlabels\u001b[0m\u001b[0;34m,\u001b[0m \u001b[0mlevel\u001b[0m\u001b[0;34m=\u001b[0m\u001b[0mlevel\u001b[0m\u001b[0;34m,\u001b[0m \u001b[0merrors\u001b[0m\u001b[0;34m=\u001b[0m\u001b[0merrors\u001b[0m\u001b[0;34m)\u001b[0m\u001b[0;34m\u001b[0m\u001b[0;34m\u001b[0m\u001b[0m\n\u001b[1;32m   3920\u001b[0m             \u001b[0;32melse\u001b[0m\u001b[0;34m:\u001b[0m\u001b[0;34m\u001b[0m\u001b[0;34m\u001b[0m\u001b[0m\n\u001b[0;32m-> 3921\u001b[0;31m                 \u001b[0mnew_axis\u001b[0m \u001b[0;34m=\u001b[0m \u001b[0maxis\u001b[0m\u001b[0;34m.\u001b[0m\u001b[0mdrop\u001b[0m\u001b[0;34m(\u001b[0m\u001b[0mlabels\u001b[0m\u001b[0;34m,\u001b[0m \u001b[0merrors\u001b[0m\u001b[0;34m=\u001b[0m\u001b[0merrors\u001b[0m\u001b[0;34m)\u001b[0m\u001b[0;34m\u001b[0m\u001b[0;34m\u001b[0m\u001b[0m\n\u001b[0m\u001b[1;32m   3922\u001b[0m             \u001b[0mresult\u001b[0m \u001b[0;34m=\u001b[0m \u001b[0mself\u001b[0m\u001b[0;34m.\u001b[0m\u001b[0mreindex\u001b[0m\u001b[0;34m(\u001b[0m\u001b[0;34m**\u001b[0m\u001b[0;34m{\u001b[0m\u001b[0maxis_name\u001b[0m\u001b[0;34m:\u001b[0m \u001b[0mnew_axis\u001b[0m\u001b[0;34m}\u001b[0m\u001b[0;34m)\u001b[0m\u001b[0;34m\u001b[0m\u001b[0;34m\u001b[0m\u001b[0m\n\u001b[1;32m   3923\u001b[0m \u001b[0;34m\u001b[0m\u001b[0m\n",
      "\u001b[0;32m~/opt/anaconda3/lib/python3.8/site-packages/pandas/core/indexes/base.py\u001b[0m in \u001b[0;36mdrop\u001b[0;34m(self, labels, errors)\u001b[0m\n\u001b[1;32m   5280\u001b[0m         \u001b[0;32mif\u001b[0m \u001b[0mmask\u001b[0m\u001b[0;34m.\u001b[0m\u001b[0many\u001b[0m\u001b[0;34m(\u001b[0m\u001b[0;34m)\u001b[0m\u001b[0;34m:\u001b[0m\u001b[0;34m\u001b[0m\u001b[0;34m\u001b[0m\u001b[0m\n\u001b[1;32m   5281\u001b[0m             \u001b[0;32mif\u001b[0m \u001b[0merrors\u001b[0m \u001b[0;34m!=\u001b[0m \u001b[0;34m\"ignore\"\u001b[0m\u001b[0;34m:\u001b[0m\u001b[0;34m\u001b[0m\u001b[0;34m\u001b[0m\u001b[0m\n\u001b[0;32m-> 5282\u001b[0;31m                 \u001b[0;32mraise\u001b[0m \u001b[0mKeyError\u001b[0m\u001b[0;34m(\u001b[0m\u001b[0;34mf\"{labels[mask]} not found in axis\"\u001b[0m\u001b[0;34m)\u001b[0m\u001b[0;34m\u001b[0m\u001b[0;34m\u001b[0m\u001b[0m\n\u001b[0m\u001b[1;32m   5283\u001b[0m             \u001b[0mindexer\u001b[0m \u001b[0;34m=\u001b[0m \u001b[0mindexer\u001b[0m\u001b[0;34m[\u001b[0m\u001b[0;34m~\u001b[0m\u001b[0mmask\u001b[0m\u001b[0;34m]\u001b[0m\u001b[0;34m\u001b[0m\u001b[0;34m\u001b[0m\u001b[0m\n\u001b[1;32m   5284\u001b[0m         \u001b[0;32mreturn\u001b[0m \u001b[0mself\u001b[0m\u001b[0;34m.\u001b[0m\u001b[0mdelete\u001b[0m\u001b[0;34m(\u001b[0m\u001b[0mindexer\u001b[0m\u001b[0;34m)\u001b[0m\u001b[0;34m\u001b[0m\u001b[0;34m\u001b[0m\u001b[0m\n",
      "\u001b[0;31mKeyError\u001b[0m: \"['1day' '7day' '1month'] not found in axis\""
     ]
    }
   ],
   "source": [
    "# Delete all the calculated values\n",
    "df.drop(columns=['1day','7day','1month'],inplace=True)\n",
    "df"
   ]
  },
  {
   "cell_type": "code",
   "execution_count": 55,
   "metadata": {},
   "outputs": [
    {
     "output_type": "stream",
     "name": "stdout",
     "text": [
      " 0 - -209.885 - 0.000 - 0.080\n 1 - -209.885 - 0.005 - 0.080\n 2 - -209.885 - 0.010 - 0.080\n 3 - -209.885 - 0.010 - 0.080\n 4 - -209.885 - 0.015 - 0.080\n 5 - -209.885 - 0.015 - 0.080\n 6 - -209.885 - 0.020 - 0.080\n 7 - -209.885 - 0.020 - 0.080\n 8 - -209.885 - 0.050 - 0.080\n 9 - -209.885 - 0.080 - 0.080\n"
     ]
    }
   ],
   "source": [
    "\n",
    "ind = df.index[0]\n",
    "\n",
    "for i in range(10):\n",
    "    dateOff = pd.DateOffset(days=-i)\n",
    "    delta = kdg.getLevelDelta(df,ind,dateOff)\n",
    "    lev = df.iloc[0]['level']\n",
    "    day7 = df.iloc[0]['7day']\n",
    "    \n",
    "\n",
    "    print(f'{i:2} - {lev:.3f} - {delta:.3f} - {day7:.3f}')"
   ]
  },
  {
   "cell_type": "code",
   "execution_count": 5,
   "metadata": {},
   "outputs": [
    {
     "output_type": "execute_result",
     "data": {
      "text/plain": [
       "              level   1day   7day  1month\n",
       "date                                     \n",
       "2020-12-24 -209.885  0.005  0.020   0.100\n",
       "2020-12-23 -209.890  0.010  0.050   0.100\n",
       "2020-12-22 -209.895  0.010  0.080   0.095\n",
       "2020-12-21 -209.895  0.015  0.090   0.105\n",
       "2020-12-20 -209.900  0.015  0.090   0.115\n",
       "...             ...    ...    ...     ...\n",
       "1966-11-01 -210.390  0.505  0.505   0.385\n",
       "1966-10-15 -210.320  0.435  0.435   0.245\n",
       "1966-10-01 -210.270  0.385  0.385   0.135\n",
       "1966-09-15 -210.130  0.245  0.245   0.135\n",
       "1966-09-01 -210.020  0.135  0.135   0.135\n",
       "\n",
       "[9250 rows x 4 columns]"
      ],
      "text/html": "<div>\n<style scoped>\n    .dataframe tbody tr th:only-of-type {\n        vertical-align: middle;\n    }\n\n    .dataframe tbody tr th {\n        vertical-align: top;\n    }\n\n    .dataframe thead th {\n        text-align: right;\n    }\n</style>\n<table border=\"1\" class=\"dataframe\">\n  <thead>\n    <tr style=\"text-align: right;\">\n      <th></th>\n      <th>level</th>\n      <th>1day</th>\n      <th>7day</th>\n      <th>1month</th>\n    </tr>\n    <tr>\n      <th>date</th>\n      <th></th>\n      <th></th>\n      <th></th>\n      <th></th>\n    </tr>\n  </thead>\n  <tbody>\n    <tr>\n      <th>2020-12-24</th>\n      <td>-209.885</td>\n      <td>0.005</td>\n      <td>0.020</td>\n      <td>0.100</td>\n    </tr>\n    <tr>\n      <th>2020-12-23</th>\n      <td>-209.890</td>\n      <td>0.010</td>\n      <td>0.050</td>\n      <td>0.100</td>\n    </tr>\n    <tr>\n      <th>2020-12-22</th>\n      <td>-209.895</td>\n      <td>0.010</td>\n      <td>0.080</td>\n      <td>0.095</td>\n    </tr>\n    <tr>\n      <th>2020-12-21</th>\n      <td>-209.895</td>\n      <td>0.015</td>\n      <td>0.090</td>\n      <td>0.105</td>\n    </tr>\n    <tr>\n      <th>2020-12-20</th>\n      <td>-209.900</td>\n      <td>0.015</td>\n      <td>0.090</td>\n      <td>0.115</td>\n    </tr>\n    <tr>\n      <th>...</th>\n      <td>...</td>\n      <td>...</td>\n      <td>...</td>\n      <td>...</td>\n    </tr>\n    <tr>\n      <th>1966-11-01</th>\n      <td>-210.390</td>\n      <td>0.505</td>\n      <td>0.505</td>\n      <td>0.385</td>\n    </tr>\n    <tr>\n      <th>1966-10-15</th>\n      <td>-210.320</td>\n      <td>0.435</td>\n      <td>0.435</td>\n      <td>0.245</td>\n    </tr>\n    <tr>\n      <th>1966-10-01</th>\n      <td>-210.270</td>\n      <td>0.385</td>\n      <td>0.385</td>\n      <td>0.135</td>\n    </tr>\n    <tr>\n      <th>1966-09-15</th>\n      <td>-210.130</td>\n      <td>0.245</td>\n      <td>0.245</td>\n      <td>0.135</td>\n    </tr>\n    <tr>\n      <th>1966-09-01</th>\n      <td>-210.020</td>\n      <td>0.135</td>\n      <td>0.135</td>\n      <td>0.135</td>\n    </tr>\n  </tbody>\n</table>\n<p>9250 rows × 4 columns</p>\n</div>"
     },
     "metadata": {},
     "execution_count": 5
    }
   ],
   "source": [
    "df = gnr.updateCalcValues(df)\n",
    "df"
   ]
  },
  {
   "cell_type": "code",
   "execution_count": 45,
   "metadata": {},
   "outputs": [
    {
     "output_type": "execute_result",
     "data": {
      "text/plain": [
       "              level   1day   7day  1month\n",
       "date                                     \n",
       "2020-12-24 -209.885  0.005  0.020   0.100\n",
       "2020-12-23 -209.890  0.010  0.050   0.100\n",
       "2020-12-22 -209.895  0.010  0.080   0.095\n",
       "2020-12-21 -209.895  0.015  0.090   0.105\n",
       "2020-12-20 -209.900  0.015  0.090   0.115\n",
       "...             ...    ...    ...     ...\n",
       "1966-11-01 -210.390  0.505  0.505   0.385\n",
       "1966-10-15 -210.320  0.435  0.435   0.245\n",
       "1966-10-01 -210.270  0.385  0.385   0.135\n",
       "1966-09-15 -210.130  0.245  0.245   0.135\n",
       "1966-09-01 -210.020  0.135  0.135   0.135\n",
       "\n",
       "[9250 rows x 4 columns]"
      ],
      "text/html": "<div>\n<style scoped>\n    .dataframe tbody tr th:only-of-type {\n        vertical-align: middle;\n    }\n\n    .dataframe tbody tr th {\n        vertical-align: top;\n    }\n\n    .dataframe thead th {\n        text-align: right;\n    }\n</style>\n<table border=\"1\" class=\"dataframe\">\n  <thead>\n    <tr style=\"text-align: right;\">\n      <th></th>\n      <th>level</th>\n      <th>1day</th>\n      <th>7day</th>\n      <th>1month</th>\n    </tr>\n    <tr>\n      <th>date</th>\n      <th></th>\n      <th></th>\n      <th></th>\n      <th></th>\n    </tr>\n  </thead>\n  <tbody>\n    <tr>\n      <th>2020-12-24</th>\n      <td>-209.885</td>\n      <td>0.005</td>\n      <td>0.020</td>\n      <td>0.100</td>\n    </tr>\n    <tr>\n      <th>2020-12-23</th>\n      <td>-209.890</td>\n      <td>0.010</td>\n      <td>0.050</td>\n      <td>0.100</td>\n    </tr>\n    <tr>\n      <th>2020-12-22</th>\n      <td>-209.895</td>\n      <td>0.010</td>\n      <td>0.080</td>\n      <td>0.095</td>\n    </tr>\n    <tr>\n      <th>2020-12-21</th>\n      <td>-209.895</td>\n      <td>0.015</td>\n      <td>0.090</td>\n      <td>0.105</td>\n    </tr>\n    <tr>\n      <th>2020-12-20</th>\n      <td>-209.900</td>\n      <td>0.015</td>\n      <td>0.090</td>\n      <td>0.115</td>\n    </tr>\n    <tr>\n      <th>...</th>\n      <td>...</td>\n      <td>...</td>\n      <td>...</td>\n      <td>...</td>\n    </tr>\n    <tr>\n      <th>1966-11-01</th>\n      <td>-210.390</td>\n      <td>0.505</td>\n      <td>0.505</td>\n      <td>0.385</td>\n    </tr>\n    <tr>\n      <th>1966-10-15</th>\n      <td>-210.320</td>\n      <td>0.435</td>\n      <td>0.435</td>\n      <td>0.245</td>\n    </tr>\n    <tr>\n      <th>1966-10-01</th>\n      <td>-210.270</td>\n      <td>0.385</td>\n      <td>0.385</td>\n      <td>0.135</td>\n    </tr>\n    <tr>\n      <th>1966-09-15</th>\n      <td>-210.130</td>\n      <td>0.245</td>\n      <td>0.245</td>\n      <td>0.135</td>\n    </tr>\n    <tr>\n      <th>1966-09-01</th>\n      <td>-210.020</td>\n      <td>0.135</td>\n      <td>0.135</td>\n      <td>0.135</td>\n    </tr>\n  </tbody>\n</table>\n<p>9250 rows × 4 columns</p>\n</div>"
     },
     "metadata": {},
     "execution_count": 45
    }
   ],
   "source": [
    "def naCheckDelta(df,x,y,dateOff,reCalc = False):\n",
    "    \"\"\" Returns the delta value for this offset first checking if the y value is NAN\n",
    "        If reCalc is True for a recalc \"\"\"\n",
    "    if reCalc OR math.isnan(y):\n",
    "        return(kdg.getLevelDelta(df,x,dateOff))\n",
    "    else:\n",
    "        return y\n",
    "\n",
    "\n",
    "def updateCalcValues(df,reCalc = False):\n",
    "    \"\"\" Updates the 1day 7day and 1month calc values in the Dataframe\n",
    "        Only updating what has changed. \"\"\"\n",
    "        \n",
    "    dateOff1m = pd.DateOffset(months=-1)\n",
    "    dateOff7d = pd.DateOffset(days=-7)\n",
    "    dateOff1d = pd.DateOffset(days=-1)\n",
    "    \n",
    "    df['1day'] = [naCheckDelta(df,x,y,dateOff1d,reCalc) for x,y in zip(df.index,df['1day'])]\n",
    "    df['7day'] = [naCheckDelta(df,x,y,dateOff7d,reCalc) for x,y in zip(df.index,df['7day'])]\n",
    "    df['1month'] = [naCheckDelta(df,x,y,dateOff1m,reCalc) for x,y in zip(df.index,df['1month'])]\n",
    "    return df\n",
    "\n",
    "df = updateCalcValues(df,reCalc==True)\n"
   ]
  },
  {
   "cell_type": "code",
   "execution_count": 57,
   "metadata": {},
   "outputs": [],
   "source": [
    "upsampled = df.resample('1D')\n",
    "interpolated = upsampled.interpolate(method='linear')"
   ]
  },
  {
   "cell_type": "code",
   "execution_count": 58,
   "metadata": {},
   "outputs": [
    {
     "output_type": "execute_result",
     "data": {
      "text/plain": [
       "                 level      1day      7day  1month\n",
       "date                                              \n",
       "1966-09-01 -210.020000  0.135000  0.135000   0.135\n",
       "1966-09-02 -210.027857  0.142857  0.142857   0.135\n",
       "1966-09-03 -210.035714  0.150714  0.150714   0.135\n",
       "1966-09-04 -210.043571  0.158571  0.158571   0.135\n",
       "1966-09-05 -210.051429  0.166429  0.166429   0.135\n",
       "...                ...       ...       ...     ...\n",
       "2020-12-20 -209.900000  0.015000  0.090000   0.115\n",
       "2020-12-21 -209.895000  0.015000  0.090000   0.105\n",
       "2020-12-22 -209.895000  0.010000  0.080000   0.095\n",
       "2020-12-23 -209.890000  0.010000  0.050000   0.100\n",
       "2020-12-24 -209.885000  0.005000  0.020000   0.100\n",
       "\n",
       "[19839 rows x 4 columns]"
      ],
      "text/html": "<div>\n<style scoped>\n    .dataframe tbody tr th:only-of-type {\n        vertical-align: middle;\n    }\n\n    .dataframe tbody tr th {\n        vertical-align: top;\n    }\n\n    .dataframe thead th {\n        text-align: right;\n    }\n</style>\n<table border=\"1\" class=\"dataframe\">\n  <thead>\n    <tr style=\"text-align: right;\">\n      <th></th>\n      <th>level</th>\n      <th>1day</th>\n      <th>7day</th>\n      <th>1month</th>\n    </tr>\n    <tr>\n      <th>date</th>\n      <th></th>\n      <th></th>\n      <th></th>\n      <th></th>\n    </tr>\n  </thead>\n  <tbody>\n    <tr>\n      <th>1966-09-01</th>\n      <td>-210.020000</td>\n      <td>0.135000</td>\n      <td>0.135000</td>\n      <td>0.135</td>\n    </tr>\n    <tr>\n      <th>1966-09-02</th>\n      <td>-210.027857</td>\n      <td>0.142857</td>\n      <td>0.142857</td>\n      <td>0.135</td>\n    </tr>\n    <tr>\n      <th>1966-09-03</th>\n      <td>-210.035714</td>\n      <td>0.150714</td>\n      <td>0.150714</td>\n      <td>0.135</td>\n    </tr>\n    <tr>\n      <th>1966-09-04</th>\n      <td>-210.043571</td>\n      <td>0.158571</td>\n      <td>0.158571</td>\n      <td>0.135</td>\n    </tr>\n    <tr>\n      <th>1966-09-05</th>\n      <td>-210.051429</td>\n      <td>0.166429</td>\n      <td>0.166429</td>\n      <td>0.135</td>\n    </tr>\n    <tr>\n      <th>...</th>\n      <td>...</td>\n      <td>...</td>\n      <td>...</td>\n      <td>...</td>\n    </tr>\n    <tr>\n      <th>2020-12-20</th>\n      <td>-209.900000</td>\n      <td>0.015000</td>\n      <td>0.090000</td>\n      <td>0.115</td>\n    </tr>\n    <tr>\n      <th>2020-12-21</th>\n      <td>-209.895000</td>\n      <td>0.015000</td>\n      <td>0.090000</td>\n      <td>0.105</td>\n    </tr>\n    <tr>\n      <th>2020-12-22</th>\n      <td>-209.895000</td>\n      <td>0.010000</td>\n      <td>0.080000</td>\n      <td>0.095</td>\n    </tr>\n    <tr>\n      <th>2020-12-23</th>\n      <td>-209.890000</td>\n      <td>0.010000</td>\n      <td>0.050000</td>\n      <td>0.100</td>\n    </tr>\n    <tr>\n      <th>2020-12-24</th>\n      <td>-209.885000</td>\n      <td>0.005000</td>\n      <td>0.020000</td>\n      <td>0.100</td>\n    </tr>\n  </tbody>\n</table>\n<p>19839 rows × 4 columns</p>\n</div>"
     },
     "metadata": {},
     "execution_count": 58
    }
   ],
   "source": [
    "interpolated"
   ]
  },
  {
   "cell_type": "code",
   "execution_count": 52,
   "metadata": {},
   "outputs": [],
   "source": [
    "dataFile = 'data/levels-pd-calc2.csv'\n",
    "colHead = ['level','1day','7day','1month']\n",
    "df.round({'1day': 3,'7day': 3, '1month': 3}).to_csv(dataFile, index_label='date', columns=colHead)"
   ]
  },
  {
   "cell_type": "code",
   "execution_count": 30,
   "metadata": {},
   "outputs": [
    {
     "output_type": "stream",
     "name": "stdout",
     "text": [
      "level    -209.935\n1day        0.080\n7day        0.075\n1month      0.105\n1dayT       0.080\nName: 2020-12-16 00:00:00, dtype: float64\n"
     ]
    }
   ],
   "source": [
    "dateOff = pd.DateOffset(days=-1)\n",
    "ind = df.index[5]\n",
    "# df['1dayT'] = [gnr.naCheckDelta(df,x,y,dateOff1d) for x,y in zip(df.index,df['1day'])]\n",
    "# df['gap'] = [x for x in df.]\n",
    "timeAgo = dateOff + ind\n",
    "filt = df.index.get_loc(timeAgo, method='nearest')\n",
    "oldLevel = df.iloc[filt]\n",
    "\n",
    "print(oldLevel)"
   ]
  }
 ]
}