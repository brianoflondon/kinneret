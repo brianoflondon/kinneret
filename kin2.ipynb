{
 "metadata": {
  "language_info": {
   "codemirror_mode": {
    "name": "ipython",
    "version": 3
   },
   "file_extension": ".py",
   "mimetype": "text/x-python",
   "name": "python",
   "nbconvert_exporter": "python",
   "pygments_lexer": "ipython3",
   "version": "3.8.3-final"
  },
  "orig_nbformat": 2,
  "kernelspec": {
   "name": "python3",
   "display_name": "Python 3.8.3 64-bit ('base': conda)",
   "metadata": {
    "interpreter": {
     "hash": "3933f17d3cf5e695b3aae6bfe78cd3afb2f47b8e00cde1196a1895276a410bca"
    }
   }
  }
 },
 "nbformat": 4,
 "nbformat_minor": 2,
 "cells": [
  {
   "cell_type": "code",
   "execution_count": 1,
   "metadata": {},
   "outputs": [],
   "source": [
    "import kinneretDrawGraph as kdg\n",
    "import pandas as pd\n",
    "import math\n",
    "import getNewReading as gnr"
   ]
  },
  {
   "cell_type": "code",
   "execution_count": 2,
   "metadata": {},
   "outputs": [
    {
     "output_type": "execute_result",
     "data": {
      "text/plain": [
       "              level\n",
       "date               \n",
       "2020-12-31 -209.920\n",
       "2020-12-30 -209.905\n",
       "2020-12-29 -209.910\n",
       "2020-12-28 -209.905\n",
       "2020-12-27 -209.900\n",
       "...             ...\n",
       "1966-11-01 -210.390\n",
       "1966-10-15 -210.320\n",
       "1966-10-01 -210.270\n",
       "1966-09-15 -210.130\n",
       "1966-09-01 -210.020\n",
       "\n",
       "[9257 rows x 1 columns]"
      ],
      "text/html": "<div>\n<style scoped>\n    .dataframe tbody tr th:only-of-type {\n        vertical-align: middle;\n    }\n\n    .dataframe tbody tr th {\n        vertical-align: top;\n    }\n\n    .dataframe thead th {\n        text-align: right;\n    }\n</style>\n<table border=\"1\" class=\"dataframe\">\n  <thead>\n    <tr style=\"text-align: right;\">\n      <th></th>\n      <th>level</th>\n    </tr>\n    <tr>\n      <th>date</th>\n      <th></th>\n    </tr>\n  </thead>\n  <tbody>\n    <tr>\n      <th>2020-12-31</th>\n      <td>-209.920</td>\n    </tr>\n    <tr>\n      <th>2020-12-30</th>\n      <td>-209.905</td>\n    </tr>\n    <tr>\n      <th>2020-12-29</th>\n      <td>-209.910</td>\n    </tr>\n    <tr>\n      <th>2020-12-28</th>\n      <td>-209.905</td>\n    </tr>\n    <tr>\n      <th>2020-12-27</th>\n      <td>-209.900</td>\n    </tr>\n    <tr>\n      <th>...</th>\n      <td>...</td>\n    </tr>\n    <tr>\n      <th>1966-11-01</th>\n      <td>-210.390</td>\n    </tr>\n    <tr>\n      <th>1966-10-15</th>\n      <td>-210.320</td>\n    </tr>\n    <tr>\n      <th>1966-10-01</th>\n      <td>-210.270</td>\n    </tr>\n    <tr>\n      <th>1966-09-15</th>\n      <td>-210.130</td>\n    </tr>\n    <tr>\n      <th>1966-09-01</th>\n      <td>-210.020</td>\n    </tr>\n  </tbody>\n</table>\n<p>9257 rows × 1 columns</p>\n</div>"
     },
     "metadata": {},
     "execution_count": 2
    }
   ],
   "source": [
    "df = gnr.importReadings()\n",
    "df"
   ]
  },
  {
   "cell_type": "code",
   "execution_count": 3,
   "metadata": {},
   "outputs": [],
   "source": [
    "df['real'] = True\n",
    "\n",
    "upsampled = df.resample('1D')\n",
    "inter = upsampled.interpolate(method='cubicspline')\n",
    "inter.sort_values(by='date', inplace=True, ascending=False)"
   ]
  },
  {
   "cell_type": "code",
   "execution_count": 4,
   "metadata": {},
   "outputs": [
    {
     "output_type": "execute_result",
     "data": {
      "text/plain": [
       "                 level   real\n",
       "date                         \n",
       "1966-10-20 -210.337375  False\n",
       "1966-10-19 -210.333597  False\n",
       "1966-10-18 -210.329960  False\n",
       "1966-10-17 -210.326474  False\n",
       "1966-10-16 -210.323151  False\n",
       "1966-10-15 -210.320000   True\n",
       "1966-10-14 -210.317021  False\n",
       "1966-10-13 -210.314169  False\n",
       "1966-10-12 -210.311391  False\n",
       "1966-10-11 -210.308631  False\n",
       "1966-10-10 -210.305835  False\n",
       "1966-10-09 -210.302948  False\n",
       "1966-10-08 -210.299915  False\n",
       "1966-10-07 -210.296681  False\n",
       "1966-10-06 -210.293192  False\n",
       "1966-10-05 -210.289392  False\n",
       "1966-10-04 -210.285228  False\n",
       "1966-10-03 -210.280645  False\n",
       "1966-10-02 -210.275587  False\n",
       "1966-10-01 -210.270000   True\n",
       "1966-09-30 -210.263845  False\n",
       "1966-09-29 -210.257149  False\n",
       "1966-09-28 -210.249953  False\n",
       "1966-09-27 -210.242298  False\n",
       "1966-09-26 -210.234228  False\n",
       "1966-09-25 -210.225784  False\n",
       "1966-09-24 -210.217007  False\n",
       "1966-09-23 -210.207941  False\n",
       "1966-09-22 -210.198626  False\n",
       "1966-09-21 -210.189105  False\n",
       "1966-09-20 -210.179420  False\n",
       "1966-09-19 -210.169613  False\n",
       "1966-09-18 -210.159725  False\n",
       "1966-09-17 -210.149799  False\n",
       "1966-09-16 -210.139877  False\n",
       "1966-09-15 -210.130000   True\n",
       "1966-09-14 -210.120211  False\n",
       "1966-09-13 -210.110551  False\n",
       "1966-09-12 -210.101062  False\n",
       "1966-09-11 -210.091787  False\n",
       "1966-09-10 -210.082767  False\n",
       "1966-09-09 -210.074044  False\n",
       "1966-09-08 -210.065661  False\n",
       "1966-09-07 -210.057659  False\n",
       "1966-09-06 -210.050080  False\n",
       "1966-09-05 -210.042966  False\n",
       "1966-09-04 -210.036359  False\n",
       "1966-09-03 -210.030301  False\n",
       "1966-09-02 -210.024834  False\n",
       "1966-09-01 -210.020000   True"
      ],
      "text/html": "<div>\n<style scoped>\n    .dataframe tbody tr th:only-of-type {\n        vertical-align: middle;\n    }\n\n    .dataframe tbody tr th {\n        vertical-align: top;\n    }\n\n    .dataframe thead th {\n        text-align: right;\n    }\n</style>\n<table border=\"1\" class=\"dataframe\">\n  <thead>\n    <tr style=\"text-align: right;\">\n      <th></th>\n      <th>level</th>\n      <th>real</th>\n    </tr>\n    <tr>\n      <th>date</th>\n      <th></th>\n      <th></th>\n    </tr>\n  </thead>\n  <tbody>\n    <tr>\n      <th>1966-10-20</th>\n      <td>-210.337375</td>\n      <td>False</td>\n    </tr>\n    <tr>\n      <th>1966-10-19</th>\n      <td>-210.333597</td>\n      <td>False</td>\n    </tr>\n    <tr>\n      <th>1966-10-18</th>\n      <td>-210.329960</td>\n      <td>False</td>\n    </tr>\n    <tr>\n      <th>1966-10-17</th>\n      <td>-210.326474</td>\n      <td>False</td>\n    </tr>\n    <tr>\n      <th>1966-10-16</th>\n      <td>-210.323151</td>\n      <td>False</td>\n    </tr>\n    <tr>\n      <th>1966-10-15</th>\n      <td>-210.320000</td>\n      <td>True</td>\n    </tr>\n    <tr>\n      <th>1966-10-14</th>\n      <td>-210.317021</td>\n      <td>False</td>\n    </tr>\n    <tr>\n      <th>1966-10-13</th>\n      <td>-210.314169</td>\n      <td>False</td>\n    </tr>\n    <tr>\n      <th>1966-10-12</th>\n      <td>-210.311391</td>\n      <td>False</td>\n    </tr>\n    <tr>\n      <th>1966-10-11</th>\n      <td>-210.308631</td>\n      <td>False</td>\n    </tr>\n    <tr>\n      <th>1966-10-10</th>\n      <td>-210.305835</td>\n      <td>False</td>\n    </tr>\n    <tr>\n      <th>1966-10-09</th>\n      <td>-210.302948</td>\n      <td>False</td>\n    </tr>\n    <tr>\n      <th>1966-10-08</th>\n      <td>-210.299915</td>\n      <td>False</td>\n    </tr>\n    <tr>\n      <th>1966-10-07</th>\n      <td>-210.296681</td>\n      <td>False</td>\n    </tr>\n    <tr>\n      <th>1966-10-06</th>\n      <td>-210.293192</td>\n      <td>False</td>\n    </tr>\n    <tr>\n      <th>1966-10-05</th>\n      <td>-210.289392</td>\n      <td>False</td>\n    </tr>\n    <tr>\n      <th>1966-10-04</th>\n      <td>-210.285228</td>\n      <td>False</td>\n    </tr>\n    <tr>\n      <th>1966-10-03</th>\n      <td>-210.280645</td>\n      <td>False</td>\n    </tr>\n    <tr>\n      <th>1966-10-02</th>\n      <td>-210.275587</td>\n      <td>False</td>\n    </tr>\n    <tr>\n      <th>1966-10-01</th>\n      <td>-210.270000</td>\n      <td>True</td>\n    </tr>\n    <tr>\n      <th>1966-09-30</th>\n      <td>-210.263845</td>\n      <td>False</td>\n    </tr>\n    <tr>\n      <th>1966-09-29</th>\n      <td>-210.257149</td>\n      <td>False</td>\n    </tr>\n    <tr>\n      <th>1966-09-28</th>\n      <td>-210.249953</td>\n      <td>False</td>\n    </tr>\n    <tr>\n      <th>1966-09-27</th>\n      <td>-210.242298</td>\n      <td>False</td>\n    </tr>\n    <tr>\n      <th>1966-09-26</th>\n      <td>-210.234228</td>\n      <td>False</td>\n    </tr>\n    <tr>\n      <th>1966-09-25</th>\n      <td>-210.225784</td>\n      <td>False</td>\n    </tr>\n    <tr>\n      <th>1966-09-24</th>\n      <td>-210.217007</td>\n      <td>False</td>\n    </tr>\n    <tr>\n      <th>1966-09-23</th>\n      <td>-210.207941</td>\n      <td>False</td>\n    </tr>\n    <tr>\n      <th>1966-09-22</th>\n      <td>-210.198626</td>\n      <td>False</td>\n    </tr>\n    <tr>\n      <th>1966-09-21</th>\n      <td>-210.189105</td>\n      <td>False</td>\n    </tr>\n    <tr>\n      <th>1966-09-20</th>\n      <td>-210.179420</td>\n      <td>False</td>\n    </tr>\n    <tr>\n      <th>1966-09-19</th>\n      <td>-210.169613</td>\n      <td>False</td>\n    </tr>\n    <tr>\n      <th>1966-09-18</th>\n      <td>-210.159725</td>\n      <td>False</td>\n    </tr>\n    <tr>\n      <th>1966-09-17</th>\n      <td>-210.149799</td>\n      <td>False</td>\n    </tr>\n    <tr>\n      <th>1966-09-16</th>\n      <td>-210.139877</td>\n      <td>False</td>\n    </tr>\n    <tr>\n      <th>1966-09-15</th>\n      <td>-210.130000</td>\n      <td>True</td>\n    </tr>\n    <tr>\n      <th>1966-09-14</th>\n      <td>-210.120211</td>\n      <td>False</td>\n    </tr>\n    <tr>\n      <th>1966-09-13</th>\n      <td>-210.110551</td>\n      <td>False</td>\n    </tr>\n    <tr>\n      <th>1966-09-12</th>\n      <td>-210.101062</td>\n      <td>False</td>\n    </tr>\n    <tr>\n      <th>1966-09-11</th>\n      <td>-210.091787</td>\n      <td>False</td>\n    </tr>\n    <tr>\n      <th>1966-09-10</th>\n      <td>-210.082767</td>\n      <td>False</td>\n    </tr>\n    <tr>\n      <th>1966-09-09</th>\n      <td>-210.074044</td>\n      <td>False</td>\n    </tr>\n    <tr>\n      <th>1966-09-08</th>\n      <td>-210.065661</td>\n      <td>False</td>\n    </tr>\n    <tr>\n      <th>1966-09-07</th>\n      <td>-210.057659</td>\n      <td>False</td>\n    </tr>\n    <tr>\n      <th>1966-09-06</th>\n      <td>-210.050080</td>\n      <td>False</td>\n    </tr>\n    <tr>\n      <th>1966-09-05</th>\n      <td>-210.042966</td>\n      <td>False</td>\n    </tr>\n    <tr>\n      <th>1966-09-04</th>\n      <td>-210.036359</td>\n      <td>False</td>\n    </tr>\n    <tr>\n      <th>1966-09-03</th>\n      <td>-210.030301</td>\n      <td>False</td>\n    </tr>\n    <tr>\n      <th>1966-09-02</th>\n      <td>-210.024834</td>\n      <td>False</td>\n    </tr>\n    <tr>\n      <th>1966-09-01</th>\n      <td>-210.020000</td>\n      <td>True</td>\n    </tr>\n  </tbody>\n</table>\n</div>"
     },
     "metadata": {},
     "execution_count": 4
    }
   ],
   "source": [
    "inter.fillna(value=False, inplace=True)\n",
    "inter.tail(50)"
   ]
  },
  {
   "cell_type": "code",
   "execution_count": 5,
   "metadata": {},
   "outputs": [
    {
     "output_type": "execute_result",
     "data": {
      "text/plain": [
       "                 level   real   1day-cm   7day-cm\n",
       "date                                             \n",
       "2020-12-31 -209.920000   True -1.500000 -3.500000\n",
       "2020-12-30 -209.905000   True  0.500000 -1.500000\n",
       "2020-12-29 -209.910000   True -0.500000 -1.500000\n",
       "2020-12-28 -209.905000   True -0.500000 -1.000000\n",
       "2020-12-27 -209.900000   True -0.500000  0.000000\n",
       "...                ...    ...       ...       ...\n",
       "1966-09-12 -210.101062  False -0.927520 -5.809629\n",
       "1966-09-11 -210.091787  False -0.901988 -5.542800\n",
       "1966-09-10 -210.082767  False -0.872261 -5.246601\n",
       "1966-09-09 -210.074044  False -0.838338 -4.921034\n",
       "1966-09-08 -210.065661  False -0.800220 -4.566098\n",
       "\n",
       "[19839 rows x 4 columns]"
      ],
      "text/html": "<div>\n<style scoped>\n    .dataframe tbody tr th:only-of-type {\n        vertical-align: middle;\n    }\n\n    .dataframe tbody tr th {\n        vertical-align: top;\n    }\n\n    .dataframe thead th {\n        text-align: right;\n    }\n</style>\n<table border=\"1\" class=\"dataframe\">\n  <thead>\n    <tr style=\"text-align: right;\">\n      <th></th>\n      <th>level</th>\n      <th>real</th>\n      <th>1day-cm</th>\n      <th>7day-cm</th>\n    </tr>\n    <tr>\n      <th>date</th>\n      <th></th>\n      <th></th>\n      <th></th>\n      <th></th>\n    </tr>\n  </thead>\n  <tbody>\n    <tr>\n      <th>2020-12-31</th>\n      <td>-209.920000</td>\n      <td>True</td>\n      <td>-1.500000</td>\n      <td>-3.500000</td>\n    </tr>\n    <tr>\n      <th>2020-12-30</th>\n      <td>-209.905000</td>\n      <td>True</td>\n      <td>0.500000</td>\n      <td>-1.500000</td>\n    </tr>\n    <tr>\n      <th>2020-12-29</th>\n      <td>-209.910000</td>\n      <td>True</td>\n      <td>-0.500000</td>\n      <td>-1.500000</td>\n    </tr>\n    <tr>\n      <th>2020-12-28</th>\n      <td>-209.905000</td>\n      <td>True</td>\n      <td>-0.500000</td>\n      <td>-1.000000</td>\n    </tr>\n    <tr>\n      <th>2020-12-27</th>\n      <td>-209.900000</td>\n      <td>True</td>\n      <td>-0.500000</td>\n      <td>0.000000</td>\n    </tr>\n    <tr>\n      <th>...</th>\n      <td>...</td>\n      <td>...</td>\n      <td>...</td>\n      <td>...</td>\n    </tr>\n    <tr>\n      <th>1966-09-12</th>\n      <td>-210.101062</td>\n      <td>False</td>\n      <td>-0.927520</td>\n      <td>-5.809629</td>\n    </tr>\n    <tr>\n      <th>1966-09-11</th>\n      <td>-210.091787</td>\n      <td>False</td>\n      <td>-0.901988</td>\n      <td>-5.542800</td>\n    </tr>\n    <tr>\n      <th>1966-09-10</th>\n      <td>-210.082767</td>\n      <td>False</td>\n      <td>-0.872261</td>\n      <td>-5.246601</td>\n    </tr>\n    <tr>\n      <th>1966-09-09</th>\n      <td>-210.074044</td>\n      <td>False</td>\n      <td>-0.838338</td>\n      <td>-4.921034</td>\n    </tr>\n    <tr>\n      <th>1966-09-08</th>\n      <td>-210.065661</td>\n      <td>False</td>\n      <td>-0.800220</td>\n      <td>-4.566098</td>\n    </tr>\n  </tbody>\n</table>\n<p>19839 rows × 4 columns</p>\n</div>"
     },
     "metadata": {},
     "execution_count": 5
    }
   ],
   "source": [
    "inter.sort_values(by='date', ascending=False, inplace=True)\n",
    "inter['1day-cm'] = inter['level'].diff(periods=-1) * 100\n",
    "inter['7day-cm'] = inter['level'].diff(periods=-7) * 100\n",
    "inter.dropna(inplace=True)\n",
    "inter"
   ]
  },
  {
   "cell_type": "code",
   "execution_count": 6,
   "metadata": {},
   "outputs": [
    {
     "output_type": "execute_result",
     "data": {
      "text/plain": [
       "                 level   real    1day-cm    7day-cm\n",
       "date                                               \n",
       "1973-07-22 -210.620000   True  -6.095930  -7.000000\n",
       "1973-07-21 -210.559041  False  -6.037832   0.454012\n",
       "1980-08-29 -209.740000   True  -6.000000 -19.818172\n",
       "1993-06-24 -208.940000   True  -6.000000  -9.000000\n",
       "1980-08-28 -209.680000   True  -5.141468 -13.290472\n",
       "...                ...    ...        ...        ...\n",
       "2003-02-22 -212.474569  False  17.543089  51.605588\n",
       "2003-02-05 -213.370000   True  20.000000  43.000000\n",
       "1995-02-08 -209.410000   True  21.000000  34.000000\n",
       "2013-01-08 -211.500000   True  22.000000  40.000000\n",
       "2020-01-09 -211.100000   True  23.000000  43.000000\n",
       "\n",
       "[19839 rows x 4 columns]"
      ],
      "text/html": "<div>\n<style scoped>\n    .dataframe tbody tr th:only-of-type {\n        vertical-align: middle;\n    }\n\n    .dataframe tbody tr th {\n        vertical-align: top;\n    }\n\n    .dataframe thead th {\n        text-align: right;\n    }\n</style>\n<table border=\"1\" class=\"dataframe\">\n  <thead>\n    <tr style=\"text-align: right;\">\n      <th></th>\n      <th>level</th>\n      <th>real</th>\n      <th>1day-cm</th>\n      <th>7day-cm</th>\n    </tr>\n    <tr>\n      <th>date</th>\n      <th></th>\n      <th></th>\n      <th></th>\n      <th></th>\n    </tr>\n  </thead>\n  <tbody>\n    <tr>\n      <th>1973-07-22</th>\n      <td>-210.620000</td>\n      <td>True</td>\n      <td>-6.095930</td>\n      <td>-7.000000</td>\n    </tr>\n    <tr>\n      <th>1973-07-21</th>\n      <td>-210.559041</td>\n      <td>False</td>\n      <td>-6.037832</td>\n      <td>0.454012</td>\n    </tr>\n    <tr>\n      <th>1980-08-29</th>\n      <td>-209.740000</td>\n      <td>True</td>\n      <td>-6.000000</td>\n      <td>-19.818172</td>\n    </tr>\n    <tr>\n      <th>1993-06-24</th>\n      <td>-208.940000</td>\n      <td>True</td>\n      <td>-6.000000</td>\n      <td>-9.000000</td>\n    </tr>\n    <tr>\n      <th>1980-08-28</th>\n      <td>-209.680000</td>\n      <td>True</td>\n      <td>-5.141468</td>\n      <td>-13.290472</td>\n    </tr>\n    <tr>\n      <th>...</th>\n      <td>...</td>\n      <td>...</td>\n      <td>...</td>\n      <td>...</td>\n    </tr>\n    <tr>\n      <th>2003-02-22</th>\n      <td>-212.474569</td>\n      <td>False</td>\n      <td>17.543089</td>\n      <td>51.605588</td>\n    </tr>\n    <tr>\n      <th>2003-02-05</th>\n      <td>-213.370000</td>\n      <td>True</td>\n      <td>20.000000</td>\n      <td>43.000000</td>\n    </tr>\n    <tr>\n      <th>1995-02-08</th>\n      <td>-209.410000</td>\n      <td>True</td>\n      <td>21.000000</td>\n      <td>34.000000</td>\n    </tr>\n    <tr>\n      <th>2013-01-08</th>\n      <td>-211.500000</td>\n      <td>True</td>\n      <td>22.000000</td>\n      <td>40.000000</td>\n    </tr>\n    <tr>\n      <th>2020-01-09</th>\n      <td>-211.100000</td>\n      <td>True</td>\n      <td>23.000000</td>\n      <td>43.000000</td>\n    </tr>\n  </tbody>\n</table>\n<p>19839 rows × 4 columns</p>\n</div>"
     },
     "metadata": {},
     "execution_count": 6
    }
   ],
   "source": [
    "inter.sort_values('1day-cm', inplace=True)\n",
    "inter"
   ]
  },
  {
   "cell_type": "code",
   "execution_count": 7,
   "metadata": {},
   "outputs": [
    {
     "output_type": "execute_result",
     "data": {
      "text/plain": [
       "              level       1day-cm       7day-cm\n",
       "count  19839.000000  19839.000000  19839.000000\n",
       "mean    -211.078286      0.000694      0.004724\n",
       "std        1.567114      1.434789      8.670769\n",
       "min     -214.870000     -6.095930    -26.097368\n",
       "25%     -212.220000     -0.875357     -5.519400\n",
       "50%     -210.820000     -0.280944     -2.000000\n",
       "75%     -209.790000      0.489626      3.237840\n",
       "max     -208.158269     23.000000     88.850369"
      ],
      "text/html": "<div>\n<style scoped>\n    .dataframe tbody tr th:only-of-type {\n        vertical-align: middle;\n    }\n\n    .dataframe tbody tr th {\n        vertical-align: top;\n    }\n\n    .dataframe thead th {\n        text-align: right;\n    }\n</style>\n<table border=\"1\" class=\"dataframe\">\n  <thead>\n    <tr style=\"text-align: right;\">\n      <th></th>\n      <th>level</th>\n      <th>1day-cm</th>\n      <th>7day-cm</th>\n    </tr>\n  </thead>\n  <tbody>\n    <tr>\n      <th>count</th>\n      <td>19839.000000</td>\n      <td>19839.000000</td>\n      <td>19839.000000</td>\n    </tr>\n    <tr>\n      <th>mean</th>\n      <td>-211.078286</td>\n      <td>0.000694</td>\n      <td>0.004724</td>\n    </tr>\n    <tr>\n      <th>std</th>\n      <td>1.567114</td>\n      <td>1.434789</td>\n      <td>8.670769</td>\n    </tr>\n    <tr>\n      <th>min</th>\n      <td>-214.870000</td>\n      <td>-6.095930</td>\n      <td>-26.097368</td>\n    </tr>\n    <tr>\n      <th>25%</th>\n      <td>-212.220000</td>\n      <td>-0.875357</td>\n      <td>-5.519400</td>\n    </tr>\n    <tr>\n      <th>50%</th>\n      <td>-210.820000</td>\n      <td>-0.280944</td>\n      <td>-2.000000</td>\n    </tr>\n    <tr>\n      <th>75%</th>\n      <td>-209.790000</td>\n      <td>0.489626</td>\n      <td>3.237840</td>\n    </tr>\n    <tr>\n      <th>max</th>\n      <td>-208.158269</td>\n      <td>23.000000</td>\n      <td>88.850369</td>\n    </tr>\n  </tbody>\n</table>\n</div>"
     },
     "metadata": {},
     "execution_count": 7
    }
   ],
   "source": [
    "inter.describe()\n"
   ]
  },
  {
   "cell_type": "code",
   "execution_count": 17,
   "metadata": {},
   "outputs": [],
   "source": [
    "filt = (inter.index.month == 12) & (inter.index.day == 31)\n",
    "dec31 = inter[filt].sort_values(by='level', ascending=False)"
   ]
  },
  {
   "cell_type": "code",
   "execution_count": 26,
   "metadata": {},
   "outputs": [
    {
     "output_type": "execute_result",
     "data": {
      "text/plain": [
       "                 level   real   1day-cm    7day-cm        diff\n",
       "date                                                          \n",
       "1968-12-31 -209.094980  False -1.655877   7.790207    0.000033\n",
       "1969-12-31 -209.380000   True  0.288670   2.311593   28.502000\n",
       "1992-12-31 -209.450000   True  0.000000  -8.000000   35.502000\n",
       "1967-12-31 -209.610000   True -0.022014  -2.564145   51.502000\n",
       "1971-12-31 -209.849743  False  0.704712   5.477174   75.476268\n",
       "1993-12-31 -209.901836  False -0.164139  -2.727536   80.685561\n",
       "2020-12-31 -209.920000   True -1.500000  -3.500000   82.502000\n",
       "1978-12-31 -210.013724  False -0.209907  -0.400419   91.874353\n",
       "1977-12-31 -210.163056  False  0.694430   6.675740  106.807570\n",
       "1994-12-31 -210.204073  False  1.474756   8.336290  110.909254\n",
       "1988-12-31 -210.236583  False  0.341700   5.353520  114.160300\n",
       "1981-12-31 -210.239806  False -0.007584   0.016361  114.482592\n",
       "1980-12-31 -210.258664  False  1.024542  -0.927434  116.368446\n",
       "1966-12-31 -210.301501  False -0.150088   1.269829  120.652088\n",
       "1970-12-31 -210.364410  False -0.562238  -2.225198  126.943044\n",
       "1987-12-31 -210.525765  False  0.787254  18.423535  143.078465\n",
       "1983-12-31 -210.548686  False  0.131384  -0.484526  145.370616\n",
       "1972-12-31 -210.770000   True -0.235467  -2.000000  167.502000\n",
       "1984-12-31 -210.793124  False  0.611149   2.803491  169.814427\n",
       "2004-12-31 -210.838703  False  0.129653   1.294872  174.372347\n",
       "1976-12-31 -210.880000   True  1.595585  10.000000  178.502000\n",
       "1974-12-31 -210.965386  False -0.333552   1.301045  187.040574\n",
       "1995-12-31 -210.980000   True -0.344843  -1.000000  188.502000\n",
       "2003-12-31 -211.030000   True  0.000000   1.000000  193.502000\n",
       "1979-12-31 -211.274723  False  0.719954  15.607230  217.974254\n",
       "2013-12-31 -211.290000   True  0.000000   0.000000  219.502000\n",
       "1996-12-31 -211.470000   True  0.000000   0.000000  237.502000\n",
       "1975-12-31 -211.492476  False  1.441258  11.695843  239.749569\n",
       "2019-12-31 -211.550000   True  1.000000  27.000000  245.502000\n",
       "1982-12-31 -211.570000   True  2.735434   1.000000  247.502000\n",
       "1973-12-31 -211.624272  False -0.462689  -2.427184  252.929184\n",
       "1986-12-31 -211.635447  False  3.511348  19.200439  254.046726\n",
       "2005-12-31 -211.643933  False -0.295692   3.233234  254.895338\n",
       "1985-12-31 -211.713273  False  0.612578   6.289062  261.829326\n",
       "2012-12-31 -211.910000   True  1.000000   9.000000  281.502000\n",
       "1997-12-31 -212.010000   True  1.000000   1.000000  291.502000\n",
       "1991-12-31 -212.070000   True  3.000000  14.712695  297.502000\n",
       "1989-12-31 -212.130000   True  1.276826   3.000000  303.502000\n",
       "2006-12-31 -212.180000   True  0.178330   1.500000  308.502000\n",
       "1998-12-31 -212.410000   True  1.000000   3.000000  331.502000\n",
       "2007-12-31 -212.590000   True  0.000000   1.000000  349.502000\n",
       "2014-12-31 -212.840000   True  0.000000  -1.000000  374.502000\n",
       "1990-12-31 -212.850000   True  0.000000  -1.462281  375.502000\n",
       "2015-12-31 -213.010000   True  3.000000   2.500000  391.502000\n",
       "1999-12-31 -213.119673  False  0.032676   1.309465  402.469324\n",
       "2016-12-31 -213.605000   True  0.500000   8.500000  451.002000\n",
       "2000-12-31 -213.650000   True  0.034983   5.000000  455.502000\n",
       "2011-12-31 -213.655000   True  1.000000   4.000000  456.002000\n",
       "2009-12-31 -214.010000   True  2.500000   8.000000  491.502000\n",
       "2010-12-31 -214.020000   True  0.000000  -1.000000  492.502000\n",
       "2002-12-31 -214.080000   True  2.000000   9.000000  498.502000\n",
       "2008-12-31 -214.370000   True  2.000000   5.000000  527.502000\n",
       "2017-12-31 -214.375000   True -0.500000   2.000000  528.002000\n",
       "2018-12-31 -214.470000   True  0.500000   7.500000  537.502000\n",
       "2001-12-31 -214.680000   True  0.000000   0.000000  558.502000"
      ],
      "text/html": "<div>\n<style scoped>\n    .dataframe tbody tr th:only-of-type {\n        vertical-align: middle;\n    }\n\n    .dataframe tbody tr th {\n        vertical-align: top;\n    }\n\n    .dataframe thead th {\n        text-align: right;\n    }\n</style>\n<table border=\"1\" class=\"dataframe\">\n  <thead>\n    <tr style=\"text-align: right;\">\n      <th></th>\n      <th>level</th>\n      <th>real</th>\n      <th>1day-cm</th>\n      <th>7day-cm</th>\n      <th>diff</th>\n    </tr>\n    <tr>\n      <th>date</th>\n      <th></th>\n      <th></th>\n      <th></th>\n      <th></th>\n      <th></th>\n    </tr>\n  </thead>\n  <tbody>\n    <tr>\n      <th>1968-12-31</th>\n      <td>-209.094980</td>\n      <td>False</td>\n      <td>-1.655877</td>\n      <td>7.790207</td>\n      <td>0.000033</td>\n    </tr>\n    <tr>\n      <th>1969-12-31</th>\n      <td>-209.380000</td>\n      <td>True</td>\n      <td>0.288670</td>\n      <td>2.311593</td>\n      <td>28.502000</td>\n    </tr>\n    <tr>\n      <th>1992-12-31</th>\n      <td>-209.450000</td>\n      <td>True</td>\n      <td>0.000000</td>\n      <td>-8.000000</td>\n      <td>35.502000</td>\n    </tr>\n    <tr>\n      <th>1967-12-31</th>\n      <td>-209.610000</td>\n      <td>True</td>\n      <td>-0.022014</td>\n      <td>-2.564145</td>\n      <td>51.502000</td>\n    </tr>\n    <tr>\n      <th>1971-12-31</th>\n      <td>-209.849743</td>\n      <td>False</td>\n      <td>0.704712</td>\n      <td>5.477174</td>\n      <td>75.476268</td>\n    </tr>\n    <tr>\n      <th>1993-12-31</th>\n      <td>-209.901836</td>\n      <td>False</td>\n      <td>-0.164139</td>\n      <td>-2.727536</td>\n      <td>80.685561</td>\n    </tr>\n    <tr>\n      <th>2020-12-31</th>\n      <td>-209.920000</td>\n      <td>True</td>\n      <td>-1.500000</td>\n      <td>-3.500000</td>\n      <td>82.502000</td>\n    </tr>\n    <tr>\n      <th>1978-12-31</th>\n      <td>-210.013724</td>\n      <td>False</td>\n      <td>-0.209907</td>\n      <td>-0.400419</td>\n      <td>91.874353</td>\n    </tr>\n    <tr>\n      <th>1977-12-31</th>\n      <td>-210.163056</td>\n      <td>False</td>\n      <td>0.694430</td>\n      <td>6.675740</td>\n      <td>106.807570</td>\n    </tr>\n    <tr>\n      <th>1994-12-31</th>\n      <td>-210.204073</td>\n      <td>False</td>\n      <td>1.474756</td>\n      <td>8.336290</td>\n      <td>110.909254</td>\n    </tr>\n    <tr>\n      <th>1988-12-31</th>\n      <td>-210.236583</td>\n      <td>False</td>\n      <td>0.341700</td>\n      <td>5.353520</td>\n      <td>114.160300</td>\n    </tr>\n    <tr>\n      <th>1981-12-31</th>\n      <td>-210.239806</td>\n      <td>False</td>\n      <td>-0.007584</td>\n      <td>0.016361</td>\n      <td>114.482592</td>\n    </tr>\n    <tr>\n      <th>1980-12-31</th>\n      <td>-210.258664</td>\n      <td>False</td>\n      <td>1.024542</td>\n      <td>-0.927434</td>\n      <td>116.368446</td>\n    </tr>\n    <tr>\n      <th>1966-12-31</th>\n      <td>-210.301501</td>\n      <td>False</td>\n      <td>-0.150088</td>\n      <td>1.269829</td>\n      <td>120.652088</td>\n    </tr>\n    <tr>\n      <th>1970-12-31</th>\n      <td>-210.364410</td>\n      <td>False</td>\n      <td>-0.562238</td>\n      <td>-2.225198</td>\n      <td>126.943044</td>\n    </tr>\n    <tr>\n      <th>1987-12-31</th>\n      <td>-210.525765</td>\n      <td>False</td>\n      <td>0.787254</td>\n      <td>18.423535</td>\n      <td>143.078465</td>\n    </tr>\n    <tr>\n      <th>1983-12-31</th>\n      <td>-210.548686</td>\n      <td>False</td>\n      <td>0.131384</td>\n      <td>-0.484526</td>\n      <td>145.370616</td>\n    </tr>\n    <tr>\n      <th>1972-12-31</th>\n      <td>-210.770000</td>\n      <td>True</td>\n      <td>-0.235467</td>\n      <td>-2.000000</td>\n      <td>167.502000</td>\n    </tr>\n    <tr>\n      <th>1984-12-31</th>\n      <td>-210.793124</td>\n      <td>False</td>\n      <td>0.611149</td>\n      <td>2.803491</td>\n      <td>169.814427</td>\n    </tr>\n    <tr>\n      <th>2004-12-31</th>\n      <td>-210.838703</td>\n      <td>False</td>\n      <td>0.129653</td>\n      <td>1.294872</td>\n      <td>174.372347</td>\n    </tr>\n    <tr>\n      <th>1976-12-31</th>\n      <td>-210.880000</td>\n      <td>True</td>\n      <td>1.595585</td>\n      <td>10.000000</td>\n      <td>178.502000</td>\n    </tr>\n    <tr>\n      <th>1974-12-31</th>\n      <td>-210.965386</td>\n      <td>False</td>\n      <td>-0.333552</td>\n      <td>1.301045</td>\n      <td>187.040574</td>\n    </tr>\n    <tr>\n      <th>1995-12-31</th>\n      <td>-210.980000</td>\n      <td>True</td>\n      <td>-0.344843</td>\n      <td>-1.000000</td>\n      <td>188.502000</td>\n    </tr>\n    <tr>\n      <th>2003-12-31</th>\n      <td>-211.030000</td>\n      <td>True</td>\n      <td>0.000000</td>\n      <td>1.000000</td>\n      <td>193.502000</td>\n    </tr>\n    <tr>\n      <th>1979-12-31</th>\n      <td>-211.274723</td>\n      <td>False</td>\n      <td>0.719954</td>\n      <td>15.607230</td>\n      <td>217.974254</td>\n    </tr>\n    <tr>\n      <th>2013-12-31</th>\n      <td>-211.290000</td>\n      <td>True</td>\n      <td>0.000000</td>\n      <td>0.000000</td>\n      <td>219.502000</td>\n    </tr>\n    <tr>\n      <th>1996-12-31</th>\n      <td>-211.470000</td>\n      <td>True</td>\n      <td>0.000000</td>\n      <td>0.000000</td>\n      <td>237.502000</td>\n    </tr>\n    <tr>\n      <th>1975-12-31</th>\n      <td>-211.492476</td>\n      <td>False</td>\n      <td>1.441258</td>\n      <td>11.695843</td>\n      <td>239.749569</td>\n    </tr>\n    <tr>\n      <th>2019-12-31</th>\n      <td>-211.550000</td>\n      <td>True</td>\n      <td>1.000000</td>\n      <td>27.000000</td>\n      <td>245.502000</td>\n    </tr>\n    <tr>\n      <th>1982-12-31</th>\n      <td>-211.570000</td>\n      <td>True</td>\n      <td>2.735434</td>\n      <td>1.000000</td>\n      <td>247.502000</td>\n    </tr>\n    <tr>\n      <th>1973-12-31</th>\n      <td>-211.624272</td>\n      <td>False</td>\n      <td>-0.462689</td>\n      <td>-2.427184</td>\n      <td>252.929184</td>\n    </tr>\n    <tr>\n      <th>1986-12-31</th>\n      <td>-211.635447</td>\n      <td>False</td>\n      <td>3.511348</td>\n      <td>19.200439</td>\n      <td>254.046726</td>\n    </tr>\n    <tr>\n      <th>2005-12-31</th>\n      <td>-211.643933</td>\n      <td>False</td>\n      <td>-0.295692</td>\n      <td>3.233234</td>\n      <td>254.895338</td>\n    </tr>\n    <tr>\n      <th>1985-12-31</th>\n      <td>-211.713273</td>\n      <td>False</td>\n      <td>0.612578</td>\n      <td>6.289062</td>\n      <td>261.829326</td>\n    </tr>\n    <tr>\n      <th>2012-12-31</th>\n      <td>-211.910000</td>\n      <td>True</td>\n      <td>1.000000</td>\n      <td>9.000000</td>\n      <td>281.502000</td>\n    </tr>\n    <tr>\n      <th>1997-12-31</th>\n      <td>-212.010000</td>\n      <td>True</td>\n      <td>1.000000</td>\n      <td>1.000000</td>\n      <td>291.502000</td>\n    </tr>\n    <tr>\n      <th>1991-12-31</th>\n      <td>-212.070000</td>\n      <td>True</td>\n      <td>3.000000</td>\n      <td>14.712695</td>\n      <td>297.502000</td>\n    </tr>\n    <tr>\n      <th>1989-12-31</th>\n      <td>-212.130000</td>\n      <td>True</td>\n      <td>1.276826</td>\n      <td>3.000000</td>\n      <td>303.502000</td>\n    </tr>\n    <tr>\n      <th>2006-12-31</th>\n      <td>-212.180000</td>\n      <td>True</td>\n      <td>0.178330</td>\n      <td>1.500000</td>\n      <td>308.502000</td>\n    </tr>\n    <tr>\n      <th>1998-12-31</th>\n      <td>-212.410000</td>\n      <td>True</td>\n      <td>1.000000</td>\n      <td>3.000000</td>\n      <td>331.502000</td>\n    </tr>\n    <tr>\n      <th>2007-12-31</th>\n      <td>-212.590000</td>\n      <td>True</td>\n      <td>0.000000</td>\n      <td>1.000000</td>\n      <td>349.502000</td>\n    </tr>\n    <tr>\n      <th>2014-12-31</th>\n      <td>-212.840000</td>\n      <td>True</td>\n      <td>0.000000</td>\n      <td>-1.000000</td>\n      <td>374.502000</td>\n    </tr>\n    <tr>\n      <th>1990-12-31</th>\n      <td>-212.850000</td>\n      <td>True</td>\n      <td>0.000000</td>\n      <td>-1.462281</td>\n      <td>375.502000</td>\n    </tr>\n    <tr>\n      <th>2015-12-31</th>\n      <td>-213.010000</td>\n      <td>True</td>\n      <td>3.000000</td>\n      <td>2.500000</td>\n      <td>391.502000</td>\n    </tr>\n    <tr>\n      <th>1999-12-31</th>\n      <td>-213.119673</td>\n      <td>False</td>\n      <td>0.032676</td>\n      <td>1.309465</td>\n      <td>402.469324</td>\n    </tr>\n    <tr>\n      <th>2016-12-31</th>\n      <td>-213.605000</td>\n      <td>True</td>\n      <td>0.500000</td>\n      <td>8.500000</td>\n      <td>451.002000</td>\n    </tr>\n    <tr>\n      <th>2000-12-31</th>\n      <td>-213.650000</td>\n      <td>True</td>\n      <td>0.034983</td>\n      <td>5.000000</td>\n      <td>455.502000</td>\n    </tr>\n    <tr>\n      <th>2011-12-31</th>\n      <td>-213.655000</td>\n      <td>True</td>\n      <td>1.000000</td>\n      <td>4.000000</td>\n      <td>456.002000</td>\n    </tr>\n    <tr>\n      <th>2009-12-31</th>\n      <td>-214.010000</td>\n      <td>True</td>\n      <td>2.500000</td>\n      <td>8.000000</td>\n      <td>491.502000</td>\n    </tr>\n    <tr>\n      <th>2010-12-31</th>\n      <td>-214.020000</td>\n      <td>True</td>\n      <td>0.000000</td>\n      <td>-1.000000</td>\n      <td>492.502000</td>\n    </tr>\n    <tr>\n      <th>2002-12-31</th>\n      <td>-214.080000</td>\n      <td>True</td>\n      <td>2.000000</td>\n      <td>9.000000</td>\n      <td>498.502000</td>\n    </tr>\n    <tr>\n      <th>2008-12-31</th>\n      <td>-214.370000</td>\n      <td>True</td>\n      <td>2.000000</td>\n      <td>5.000000</td>\n      <td>527.502000</td>\n    </tr>\n    <tr>\n      <th>2017-12-31</th>\n      <td>-214.375000</td>\n      <td>True</td>\n      <td>-0.500000</td>\n      <td>2.000000</td>\n      <td>528.002000</td>\n    </tr>\n    <tr>\n      <th>2018-12-31</th>\n      <td>-214.470000</td>\n      <td>True</td>\n      <td>0.500000</td>\n      <td>7.500000</td>\n      <td>537.502000</td>\n    </tr>\n    <tr>\n      <th>2001-12-31</th>\n      <td>-214.680000</td>\n      <td>True</td>\n      <td>0.000000</td>\n      <td>0.000000</td>\n      <td>558.502000</td>\n    </tr>\n  </tbody>\n</table>\n</div>"
     },
     "metadata": {},
     "execution_count": 26
    }
   ],
   "source": [
    "\n",
    "dec31['diff']= (-209.094980 - dec31['level'] )* 100\n"
   ]
  },
  {
   "cell_type": "code",
   "execution_count": 41,
   "metadata": {},
   "outputs": [
    {
     "output_type": "execute_result",
     "data": {
      "text/plain": [
       "                 level   real   1day-cm    7day-cm        diff  rank\n",
       "date                                                                \n",
       "1968-12-31 -209.094980  False -1.655877   7.790207    0.000033     1\n",
       "1969-12-31 -209.380000   True  0.288670   2.311593   28.502000     2\n",
       "1992-12-31 -209.450000   True  0.000000  -8.000000   35.502000     3\n",
       "1967-12-31 -209.610000   True -0.022014  -2.564145   51.502000     4\n",
       "1971-12-31 -209.849743  False  0.704712   5.477174   75.476268     5\n",
       "1993-12-31 -209.901836  False -0.164139  -2.727536   80.685561     6\n",
       "2020-12-31 -209.920000   True -1.500000  -3.500000   82.502000     7\n",
       "1978-12-31 -210.013724  False -0.209907  -0.400419   91.874353     8\n",
       "1977-12-31 -210.163056  False  0.694430   6.675740  106.807570     9\n",
       "1994-12-31 -210.204073  False  1.474756   8.336290  110.909254    10\n",
       "1988-12-31 -210.236583  False  0.341700   5.353520  114.160300    11\n",
       "1981-12-31 -210.239806  False -0.007584   0.016361  114.482592    12\n",
       "1980-12-31 -210.258664  False  1.024542  -0.927434  116.368446    13\n",
       "1966-12-31 -210.301501  False -0.150088   1.269829  120.652088    14\n",
       "1970-12-31 -210.364410  False -0.562238  -2.225198  126.943044    15\n",
       "1987-12-31 -210.525765  False  0.787254  18.423535  143.078465    16\n",
       "1983-12-31 -210.548686  False  0.131384  -0.484526  145.370616    17\n",
       "1972-12-31 -210.770000   True -0.235467  -2.000000  167.502000    18\n",
       "1984-12-31 -210.793124  False  0.611149   2.803491  169.814427    19\n",
       "2004-12-31 -210.838703  False  0.129653   1.294872  174.372347    20\n",
       "1976-12-31 -210.880000   True  1.595585  10.000000  178.502000    21\n",
       "1974-12-31 -210.965386  False -0.333552   1.301045  187.040574    22\n",
       "1995-12-31 -210.980000   True -0.344843  -1.000000  188.502000    23\n",
       "2003-12-31 -211.030000   True  0.000000   1.000000  193.502000    24\n",
       "1979-12-31 -211.274723  False  0.719954  15.607230  217.974254    25\n",
       "2013-12-31 -211.290000   True  0.000000   0.000000  219.502000    26\n",
       "1996-12-31 -211.470000   True  0.000000   0.000000  237.502000    27\n",
       "1975-12-31 -211.492476  False  1.441258  11.695843  239.749569    28\n",
       "2019-12-31 -211.550000   True  1.000000  27.000000  245.502000    29\n",
       "1982-12-31 -211.570000   True  2.735434   1.000000  247.502000    30\n",
       "1973-12-31 -211.624272  False -0.462689  -2.427184  252.929184    31\n",
       "1986-12-31 -211.635447  False  3.511348  19.200439  254.046726    32\n",
       "2005-12-31 -211.643933  False -0.295692   3.233234  254.895338    33\n",
       "1985-12-31 -211.713273  False  0.612578   6.289062  261.829326    34\n",
       "2012-12-31 -211.910000   True  1.000000   9.000000  281.502000    35\n",
       "1997-12-31 -212.010000   True  1.000000   1.000000  291.502000    36\n",
       "1991-12-31 -212.070000   True  3.000000  14.712695  297.502000    37\n",
       "1989-12-31 -212.130000   True  1.276826   3.000000  303.502000    38\n",
       "2006-12-31 -212.180000   True  0.178330   1.500000  308.502000    39\n",
       "1998-12-31 -212.410000   True  1.000000   3.000000  331.502000    40\n",
       "2007-12-31 -212.590000   True  0.000000   1.000000  349.502000    41\n",
       "2014-12-31 -212.840000   True  0.000000  -1.000000  374.502000    42\n",
       "1990-12-31 -212.850000   True  0.000000  -1.462281  375.502000    43\n",
       "2015-12-31 -213.010000   True  3.000000   2.500000  391.502000    44\n",
       "1999-12-31 -213.119673  False  0.032676   1.309465  402.469324    45\n",
       "2016-12-31 -213.605000   True  0.500000   8.500000  451.002000    46\n",
       "2000-12-31 -213.650000   True  0.034983   5.000000  455.502000    47\n",
       "2011-12-31 -213.655000   True  1.000000   4.000000  456.002000    48\n",
       "2009-12-31 -214.010000   True  2.500000   8.000000  491.502000    49\n",
       "2010-12-31 -214.020000   True  0.000000  -1.000000  492.502000    50\n",
       "2002-12-31 -214.080000   True  2.000000   9.000000  498.502000    51\n",
       "2008-12-31 -214.370000   True  2.000000   5.000000  527.502000    52\n",
       "2017-12-31 -214.375000   True -0.500000   2.000000  528.002000    53\n",
       "2018-12-31 -214.470000   True  0.500000   7.500000  537.502000    54\n",
       "2001-12-31 -214.680000   True  0.000000   0.000000  558.502000    55"
      ],
      "text/html": "<div>\n<style scoped>\n    .dataframe tbody tr th:only-of-type {\n        vertical-align: middle;\n    }\n\n    .dataframe tbody tr th {\n        vertical-align: top;\n    }\n\n    .dataframe thead th {\n        text-align: right;\n    }\n</style>\n<table border=\"1\" class=\"dataframe\">\n  <thead>\n    <tr style=\"text-align: right;\">\n      <th></th>\n      <th>level</th>\n      <th>real</th>\n      <th>1day-cm</th>\n      <th>7day-cm</th>\n      <th>diff</th>\n      <th>rank</th>\n    </tr>\n    <tr>\n      <th>date</th>\n      <th></th>\n      <th></th>\n      <th></th>\n      <th></th>\n      <th></th>\n      <th></th>\n    </tr>\n  </thead>\n  <tbody>\n    <tr>\n      <th>1968-12-31</th>\n      <td>-209.094980</td>\n      <td>False</td>\n      <td>-1.655877</td>\n      <td>7.790207</td>\n      <td>0.000033</td>\n      <td>1</td>\n    </tr>\n    <tr>\n      <th>1969-12-31</th>\n      <td>-209.380000</td>\n      <td>True</td>\n      <td>0.288670</td>\n      <td>2.311593</td>\n      <td>28.502000</td>\n      <td>2</td>\n    </tr>\n    <tr>\n      <th>1992-12-31</th>\n      <td>-209.450000</td>\n      <td>True</td>\n      <td>0.000000</td>\n      <td>-8.000000</td>\n      <td>35.502000</td>\n      <td>3</td>\n    </tr>\n    <tr>\n      <th>1967-12-31</th>\n      <td>-209.610000</td>\n      <td>True</td>\n      <td>-0.022014</td>\n      <td>-2.564145</td>\n      <td>51.502000</td>\n      <td>4</td>\n    </tr>\n    <tr>\n      <th>1971-12-31</th>\n      <td>-209.849743</td>\n      <td>False</td>\n      <td>0.704712</td>\n      <td>5.477174</td>\n      <td>75.476268</td>\n      <td>5</td>\n    </tr>\n    <tr>\n      <th>1993-12-31</th>\n      <td>-209.901836</td>\n      <td>False</td>\n      <td>-0.164139</td>\n      <td>-2.727536</td>\n      <td>80.685561</td>\n      <td>6</td>\n    </tr>\n    <tr>\n      <th>2020-12-31</th>\n      <td>-209.920000</td>\n      <td>True</td>\n      <td>-1.500000</td>\n      <td>-3.500000</td>\n      <td>82.502000</td>\n      <td>7</td>\n    </tr>\n    <tr>\n      <th>1978-12-31</th>\n      <td>-210.013724</td>\n      <td>False</td>\n      <td>-0.209907</td>\n      <td>-0.400419</td>\n      <td>91.874353</td>\n      <td>8</td>\n    </tr>\n    <tr>\n      <th>1977-12-31</th>\n      <td>-210.163056</td>\n      <td>False</td>\n      <td>0.694430</td>\n      <td>6.675740</td>\n      <td>106.807570</td>\n      <td>9</td>\n    </tr>\n    <tr>\n      <th>1994-12-31</th>\n      <td>-210.204073</td>\n      <td>False</td>\n      <td>1.474756</td>\n      <td>8.336290</td>\n      <td>110.909254</td>\n      <td>10</td>\n    </tr>\n    <tr>\n      <th>1988-12-31</th>\n      <td>-210.236583</td>\n      <td>False</td>\n      <td>0.341700</td>\n      <td>5.353520</td>\n      <td>114.160300</td>\n      <td>11</td>\n    </tr>\n    <tr>\n      <th>1981-12-31</th>\n      <td>-210.239806</td>\n      <td>False</td>\n      <td>-0.007584</td>\n      <td>0.016361</td>\n      <td>114.482592</td>\n      <td>12</td>\n    </tr>\n    <tr>\n      <th>1980-12-31</th>\n      <td>-210.258664</td>\n      <td>False</td>\n      <td>1.024542</td>\n      <td>-0.927434</td>\n      <td>116.368446</td>\n      <td>13</td>\n    </tr>\n    <tr>\n      <th>1966-12-31</th>\n      <td>-210.301501</td>\n      <td>False</td>\n      <td>-0.150088</td>\n      <td>1.269829</td>\n      <td>120.652088</td>\n      <td>14</td>\n    </tr>\n    <tr>\n      <th>1970-12-31</th>\n      <td>-210.364410</td>\n      <td>False</td>\n      <td>-0.562238</td>\n      <td>-2.225198</td>\n      <td>126.943044</td>\n      <td>15</td>\n    </tr>\n    <tr>\n      <th>1987-12-31</th>\n      <td>-210.525765</td>\n      <td>False</td>\n      <td>0.787254</td>\n      <td>18.423535</td>\n      <td>143.078465</td>\n      <td>16</td>\n    </tr>\n    <tr>\n      <th>1983-12-31</th>\n      <td>-210.548686</td>\n      <td>False</td>\n      <td>0.131384</td>\n      <td>-0.484526</td>\n      <td>145.370616</td>\n      <td>17</td>\n    </tr>\n    <tr>\n      <th>1972-12-31</th>\n      <td>-210.770000</td>\n      <td>True</td>\n      <td>-0.235467</td>\n      <td>-2.000000</td>\n      <td>167.502000</td>\n      <td>18</td>\n    </tr>\n    <tr>\n      <th>1984-12-31</th>\n      <td>-210.793124</td>\n      <td>False</td>\n      <td>0.611149</td>\n      <td>2.803491</td>\n      <td>169.814427</td>\n      <td>19</td>\n    </tr>\n    <tr>\n      <th>2004-12-31</th>\n      <td>-210.838703</td>\n      <td>False</td>\n      <td>0.129653</td>\n      <td>1.294872</td>\n      <td>174.372347</td>\n      <td>20</td>\n    </tr>\n    <tr>\n      <th>1976-12-31</th>\n      <td>-210.880000</td>\n      <td>True</td>\n      <td>1.595585</td>\n      <td>10.000000</td>\n      <td>178.502000</td>\n      <td>21</td>\n    </tr>\n    <tr>\n      <th>1974-12-31</th>\n      <td>-210.965386</td>\n      <td>False</td>\n      <td>-0.333552</td>\n      <td>1.301045</td>\n      <td>187.040574</td>\n      <td>22</td>\n    </tr>\n    <tr>\n      <th>1995-12-31</th>\n      <td>-210.980000</td>\n      <td>True</td>\n      <td>-0.344843</td>\n      <td>-1.000000</td>\n      <td>188.502000</td>\n      <td>23</td>\n    </tr>\n    <tr>\n      <th>2003-12-31</th>\n      <td>-211.030000</td>\n      <td>True</td>\n      <td>0.000000</td>\n      <td>1.000000</td>\n      <td>193.502000</td>\n      <td>24</td>\n    </tr>\n    <tr>\n      <th>1979-12-31</th>\n      <td>-211.274723</td>\n      <td>False</td>\n      <td>0.719954</td>\n      <td>15.607230</td>\n      <td>217.974254</td>\n      <td>25</td>\n    </tr>\n    <tr>\n      <th>2013-12-31</th>\n      <td>-211.290000</td>\n      <td>True</td>\n      <td>0.000000</td>\n      <td>0.000000</td>\n      <td>219.502000</td>\n      <td>26</td>\n    </tr>\n    <tr>\n      <th>1996-12-31</th>\n      <td>-211.470000</td>\n      <td>True</td>\n      <td>0.000000</td>\n      <td>0.000000</td>\n      <td>237.502000</td>\n      <td>27</td>\n    </tr>\n    <tr>\n      <th>1975-12-31</th>\n      <td>-211.492476</td>\n      <td>False</td>\n      <td>1.441258</td>\n      <td>11.695843</td>\n      <td>239.749569</td>\n      <td>28</td>\n    </tr>\n    <tr>\n      <th>2019-12-31</th>\n      <td>-211.550000</td>\n      <td>True</td>\n      <td>1.000000</td>\n      <td>27.000000</td>\n      <td>245.502000</td>\n      <td>29</td>\n    </tr>\n    <tr>\n      <th>1982-12-31</th>\n      <td>-211.570000</td>\n      <td>True</td>\n      <td>2.735434</td>\n      <td>1.000000</td>\n      <td>247.502000</td>\n      <td>30</td>\n    </tr>\n    <tr>\n      <th>1973-12-31</th>\n      <td>-211.624272</td>\n      <td>False</td>\n      <td>-0.462689</td>\n      <td>-2.427184</td>\n      <td>252.929184</td>\n      <td>31</td>\n    </tr>\n    <tr>\n      <th>1986-12-31</th>\n      <td>-211.635447</td>\n      <td>False</td>\n      <td>3.511348</td>\n      <td>19.200439</td>\n      <td>254.046726</td>\n      <td>32</td>\n    </tr>\n    <tr>\n      <th>2005-12-31</th>\n      <td>-211.643933</td>\n      <td>False</td>\n      <td>-0.295692</td>\n      <td>3.233234</td>\n      <td>254.895338</td>\n      <td>33</td>\n    </tr>\n    <tr>\n      <th>1985-12-31</th>\n      <td>-211.713273</td>\n      <td>False</td>\n      <td>0.612578</td>\n      <td>6.289062</td>\n      <td>261.829326</td>\n      <td>34</td>\n    </tr>\n    <tr>\n      <th>2012-12-31</th>\n      <td>-211.910000</td>\n      <td>True</td>\n      <td>1.000000</td>\n      <td>9.000000</td>\n      <td>281.502000</td>\n      <td>35</td>\n    </tr>\n    <tr>\n      <th>1997-12-31</th>\n      <td>-212.010000</td>\n      <td>True</td>\n      <td>1.000000</td>\n      <td>1.000000</td>\n      <td>291.502000</td>\n      <td>36</td>\n    </tr>\n    <tr>\n      <th>1991-12-31</th>\n      <td>-212.070000</td>\n      <td>True</td>\n      <td>3.000000</td>\n      <td>14.712695</td>\n      <td>297.502000</td>\n      <td>37</td>\n    </tr>\n    <tr>\n      <th>1989-12-31</th>\n      <td>-212.130000</td>\n      <td>True</td>\n      <td>1.276826</td>\n      <td>3.000000</td>\n      <td>303.502000</td>\n      <td>38</td>\n    </tr>\n    <tr>\n      <th>2006-12-31</th>\n      <td>-212.180000</td>\n      <td>True</td>\n      <td>0.178330</td>\n      <td>1.500000</td>\n      <td>308.502000</td>\n      <td>39</td>\n    </tr>\n    <tr>\n      <th>1998-12-31</th>\n      <td>-212.410000</td>\n      <td>True</td>\n      <td>1.000000</td>\n      <td>3.000000</td>\n      <td>331.502000</td>\n      <td>40</td>\n    </tr>\n    <tr>\n      <th>2007-12-31</th>\n      <td>-212.590000</td>\n      <td>True</td>\n      <td>0.000000</td>\n      <td>1.000000</td>\n      <td>349.502000</td>\n      <td>41</td>\n    </tr>\n    <tr>\n      <th>2014-12-31</th>\n      <td>-212.840000</td>\n      <td>True</td>\n      <td>0.000000</td>\n      <td>-1.000000</td>\n      <td>374.502000</td>\n      <td>42</td>\n    </tr>\n    <tr>\n      <th>1990-12-31</th>\n      <td>-212.850000</td>\n      <td>True</td>\n      <td>0.000000</td>\n      <td>-1.462281</td>\n      <td>375.502000</td>\n      <td>43</td>\n    </tr>\n    <tr>\n      <th>2015-12-31</th>\n      <td>-213.010000</td>\n      <td>True</td>\n      <td>3.000000</td>\n      <td>2.500000</td>\n      <td>391.502000</td>\n      <td>44</td>\n    </tr>\n    <tr>\n      <th>1999-12-31</th>\n      <td>-213.119673</td>\n      <td>False</td>\n      <td>0.032676</td>\n      <td>1.309465</td>\n      <td>402.469324</td>\n      <td>45</td>\n    </tr>\n    <tr>\n      <th>2016-12-31</th>\n      <td>-213.605000</td>\n      <td>True</td>\n      <td>0.500000</td>\n      <td>8.500000</td>\n      <td>451.002000</td>\n      <td>46</td>\n    </tr>\n    <tr>\n      <th>2000-12-31</th>\n      <td>-213.650000</td>\n      <td>True</td>\n      <td>0.034983</td>\n      <td>5.000000</td>\n      <td>455.502000</td>\n      <td>47</td>\n    </tr>\n    <tr>\n      <th>2011-12-31</th>\n      <td>-213.655000</td>\n      <td>True</td>\n      <td>1.000000</td>\n      <td>4.000000</td>\n      <td>456.002000</td>\n      <td>48</td>\n    </tr>\n    <tr>\n      <th>2009-12-31</th>\n      <td>-214.010000</td>\n      <td>True</td>\n      <td>2.500000</td>\n      <td>8.000000</td>\n      <td>491.502000</td>\n      <td>49</td>\n    </tr>\n    <tr>\n      <th>2010-12-31</th>\n      <td>-214.020000</td>\n      <td>True</td>\n      <td>0.000000</td>\n      <td>-1.000000</td>\n      <td>492.502000</td>\n      <td>50</td>\n    </tr>\n    <tr>\n      <th>2002-12-31</th>\n      <td>-214.080000</td>\n      <td>True</td>\n      <td>2.000000</td>\n      <td>9.000000</td>\n      <td>498.502000</td>\n      <td>51</td>\n    </tr>\n    <tr>\n      <th>2008-12-31</th>\n      <td>-214.370000</td>\n      <td>True</td>\n      <td>2.000000</td>\n      <td>5.000000</td>\n      <td>527.502000</td>\n      <td>52</td>\n    </tr>\n    <tr>\n      <th>2017-12-31</th>\n      <td>-214.375000</td>\n      <td>True</td>\n      <td>-0.500000</td>\n      <td>2.000000</td>\n      <td>528.002000</td>\n      <td>53</td>\n    </tr>\n    <tr>\n      <th>2018-12-31</th>\n      <td>-214.470000</td>\n      <td>True</td>\n      <td>0.500000</td>\n      <td>7.500000</td>\n      <td>537.502000</td>\n      <td>54</td>\n    </tr>\n    <tr>\n      <th>2001-12-31</th>\n      <td>-214.680000</td>\n      <td>True</td>\n      <td>0.000000</td>\n      <td>0.000000</td>\n      <td>558.502000</td>\n      <td>55</td>\n    </tr>\n  </tbody>\n</table>\n</div>"
     },
     "metadata": {},
     "execution_count": 41
    }
   ],
   "source": [
    "import numpy as np\n",
    "dec31['rank'] = np.arange(len(dec31))+1\n",
    "dec31"
   ]
  }
 ]
}