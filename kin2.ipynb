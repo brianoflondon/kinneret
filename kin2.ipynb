{
 "metadata": {
  "language_info": {
   "codemirror_mode": {
    "name": "ipython",
    "version": 3
   },
   "file_extension": ".py",
   "mimetype": "text/x-python",
   "name": "python",
   "nbconvert_exporter": "python",
   "pygments_lexer": "ipython3",
   "version": "3.8.3-final"
  },
  "orig_nbformat": 2,
  "kernelspec": {
   "name": "python3",
   "display_name": "Python 3",
   "language": "python"
  }
 },
 "nbformat": 4,
 "nbformat_minor": 2,
 "cells": [
  {
   "cell_type": "code",
   "execution_count": 2,
   "metadata": {},
   "outputs": [],
   "source": [
    "import getNewReading as gnr\n",
    "import kinneretDrawGraph as kdg\n",
    "import pandas as pd"
   ]
  },
  {
   "cell_type": "code",
   "execution_count": 3,
   "metadata": {},
   "outputs": [
    {
     "output_type": "execute_result",
     "data": {
      "text/plain": [
       "              level   1day   7day  1month\n",
       "date                                     \n",
       "2020-12-24 -209.885  0.005  0.020   0.100\n",
       "2020-12-23 -209.890  0.010  0.050   0.100\n",
       "2020-12-22 -209.895  0.010  0.080   0.095\n",
       "2020-12-21 -209.895  0.015  0.090   0.105\n",
       "2020-12-20 -209.900  0.015  0.090   0.115\n",
       "...             ...    ...    ...     ...\n",
       "1966-11-01 -210.390  0.505  0.505   0.385\n",
       "1966-10-15 -210.320  0.435  0.435   0.245\n",
       "1966-10-01 -210.270  0.385  0.385   0.135\n",
       "1966-09-15 -210.130  0.245  0.245   0.135\n",
       "1966-09-01 -210.020  0.135  0.135   0.135\n",
       "\n",
       "[9250 rows x 4 columns]"
      ],
      "text/html": "<div>\n<style scoped>\n    .dataframe tbody tr th:only-of-type {\n        vertical-align: middle;\n    }\n\n    .dataframe tbody tr th {\n        vertical-align: top;\n    }\n\n    .dataframe thead th {\n        text-align: right;\n    }\n</style>\n<table border=\"1\" class=\"dataframe\">\n  <thead>\n    <tr style=\"text-align: right;\">\n      <th></th>\n      <th>level</th>\n      <th>1day</th>\n      <th>7day</th>\n      <th>1month</th>\n    </tr>\n    <tr>\n      <th>date</th>\n      <th></th>\n      <th></th>\n      <th></th>\n      <th></th>\n    </tr>\n  </thead>\n  <tbody>\n    <tr>\n      <th>2020-12-24</th>\n      <td>-209.885</td>\n      <td>0.005</td>\n      <td>0.020</td>\n      <td>0.100</td>\n    </tr>\n    <tr>\n      <th>2020-12-23</th>\n      <td>-209.890</td>\n      <td>0.010</td>\n      <td>0.050</td>\n      <td>0.100</td>\n    </tr>\n    <tr>\n      <th>2020-12-22</th>\n      <td>-209.895</td>\n      <td>0.010</td>\n      <td>0.080</td>\n      <td>0.095</td>\n    </tr>\n    <tr>\n      <th>2020-12-21</th>\n      <td>-209.895</td>\n      <td>0.015</td>\n      <td>0.090</td>\n      <td>0.105</td>\n    </tr>\n    <tr>\n      <th>2020-12-20</th>\n      <td>-209.900</td>\n      <td>0.015</td>\n      <td>0.090</td>\n      <td>0.115</td>\n    </tr>\n    <tr>\n      <th>...</th>\n      <td>...</td>\n      <td>...</td>\n      <td>...</td>\n      <td>...</td>\n    </tr>\n    <tr>\n      <th>1966-11-01</th>\n      <td>-210.390</td>\n      <td>0.505</td>\n      <td>0.505</td>\n      <td>0.385</td>\n    </tr>\n    <tr>\n      <th>1966-10-15</th>\n      <td>-210.320</td>\n      <td>0.435</td>\n      <td>0.435</td>\n      <td>0.245</td>\n    </tr>\n    <tr>\n      <th>1966-10-01</th>\n      <td>-210.270</td>\n      <td>0.385</td>\n      <td>0.385</td>\n      <td>0.135</td>\n    </tr>\n    <tr>\n      <th>1966-09-15</th>\n      <td>-210.130</td>\n      <td>0.245</td>\n      <td>0.245</td>\n      <td>0.135</td>\n    </tr>\n    <tr>\n      <th>1966-09-01</th>\n      <td>-210.020</td>\n      <td>0.135</td>\n      <td>0.135</td>\n      <td>0.135</td>\n    </tr>\n  </tbody>\n</table>\n<p>9250 rows × 4 columns</p>\n</div>"
     },
     "metadata": {},
     "execution_count": 3
    }
   ],
   "source": [
    "df = gnr.importReadings()\n",
    "df"
   ]
  },
  {
   "cell_type": "code",
   "execution_count": 55,
   "metadata": {},
   "outputs": [
    {
     "output_type": "stream",
     "name": "stdout",
     "text": [
      " 0 - -209.885 - 0.000 - 0.080\n 1 - -209.885 - 0.005 - 0.080\n 2 - -209.885 - 0.010 - 0.080\n 3 - -209.885 - 0.010 - 0.080\n 4 - -209.885 - 0.015 - 0.080\n 5 - -209.885 - 0.015 - 0.080\n 6 - -209.885 - 0.020 - 0.080\n 7 - -209.885 - 0.020 - 0.080\n 8 - -209.885 - 0.050 - 0.080\n 9 - -209.885 - 0.080 - 0.080\n"
     ]
    }
   ],
   "source": [
    "\n",
    "ind = df.index[0]\n",
    "\n",
    "for i in range(10):\n",
    "    dateOff = pd.DateOffset(days=-i)\n",
    "    delta = kdg.getLevelDelta(df,ind,dateOff)\n",
    "    lev = df.iloc[0]['level']\n",
    "    day7 = df.iloc[0]['7day']\n",
    "    \n",
    "\n",
    "    print(f'{i:2} - {lev:.3f} - {delta:.3f} - {day7:.3f}')"
   ]
  },
  {
   "cell_type": "code",
   "execution_count": 61,
   "metadata": {},
   "outputs": [],
   "source": [
    "dateOff1m = pd.DateOffset(months=-1)\n",
    "dateOff7d = pd.DateOffset(days=-1)\n",
    "df['realM1'] = [kdg.getLevelDelta(df,x,dateOff1m) for x in df.index]\n",
    "df['realD7'] = [kdg.getLevelDelta(df,x,dateOff7d) for x in df.index]"
   ]
  },
  {
   "cell_type": "code",
   "execution_count": 62,
   "metadata": {},
   "outputs": [
    {
     "output_type": "execute_result",
     "data": {
      "text/plain": [
       "              level   7day  realD7  realM1\n",
       "date                                      \n",
       "2020-12-24 -209.885  0.080   0.020   0.100\n",
       "2020-12-23 -209.890  0.085   0.050   0.100\n",
       "2020-12-22 -209.895  0.080   0.080   0.095\n",
       "2020-12-21 -209.895  0.065   0.090   0.105\n",
       "2020-12-20 -209.900  0.060   0.090   0.115\n",
       "2020-12-17 -209.905  0.055   0.075   0.110\n",
       "2020-12-16 -209.935  0.020   0.075   0.105\n",
       "2020-12-15 -209.965 -0.005   0.075   0.120\n",
       "2020-12-14 -209.975 -0.030   0.070   0.120\n",
       "2020-12-13 -209.975 -0.030   0.075   0.115\n",
       "2020-12-10 -209.960 -0.010   0.060   0.105\n",
       "2020-12-09 -209.960 -0.005   0.060   0.105\n",
       "2020-12-08 -209.960 -0.015   0.065   0.105\n",
       "2020-12-07 -209.955 -0.010   0.070   0.105\n",
       "2020-12-06 -209.960 -0.020   0.060   0.090\n",
       "2020-12-03 -209.945  0.010   0.070   0.105\n",
       "2020-12-02 -209.945  0.035   0.095   0.100\n",
       "2020-12-01 -209.950  0.035   0.100   0.095\n",
       "2020-11-30 -209.955  0.030   0.100   0.085\n",
       "2020-11-29 -209.945  0.035   0.095   0.080\n",
       "2020-11-28 -209.945  0.045   0.105   0.075\n",
       "2020-11-27 -209.940  0.060   0.115   0.070\n",
       "2020-11-26 -209.955  0.050   0.120   0.060\n",
       "2020-11-25 -209.980  0.020   0.115   0.050\n",
       "2020-11-24 -209.985  0.010   0.110   0.045\n",
       "2020-11-23 -209.985  0.005   0.105   0.030\n",
       "2020-11-22 -209.980  0.025   0.120   0.025\n",
       "2020-11-21 -209.990  0.015   0.120   0.015\n",
       "2020-11-20 -210.000  0.000   0.115   0.015\n",
       "2020-11-19 -210.005 -0.005   0.115   0.005\n",
       "2020-11-18 -210.000 -0.005   0.110   0.005\n",
       "2020-11-17 -209.995 -0.005   0.105  -0.005\n",
       "2020-11-16 -209.990  0.000   0.105  -0.015\n",
       "2020-11-15 -210.005 -0.030   0.105  -0.025\n",
       "2020-11-14 -210.005 -0.010   0.105  -0.025\n",
       "2020-11-13 -210.000 -0.010   0.090  -0.035\n",
       "2020-11-12 -210.000 -0.015   0.090  -0.045\n",
       "2020-11-11 -209.995 -0.015   0.110  -0.045\n",
       "2020-11-10 -209.990 -0.015   0.105  -0.055\n",
       "2020-11-08 -209.990 -0.020   0.095  -0.080\n",
       "2020-11-05 -209.975 -0.010   0.080  -0.095\n",
       "2020-11-04 -209.995 -0.035   0.075  -0.105\n",
       "2020-11-03 -209.990 -0.035   0.070  -0.115\n",
       "2020-11-02 -209.985 -0.040   0.060  -0.125\n",
       "2020-11-01 -209.980 -0.045   0.050  -0.135\n",
       "2020-10-31 -209.975 -0.045   0.045  -0.140\n",
       "2020-10-30 -209.970 -0.055   0.030  -0.140\n",
       "2020-10-29 -209.965 -0.055   0.025  -0.145\n",
       "2020-10-28 -209.960 -0.060   0.015  -0.155\n",
       "2020-10-27 -209.955 -0.055   0.015  -0.160"
      ],
      "text/html": "<div>\n<style scoped>\n    .dataframe tbody tr th:only-of-type {\n        vertical-align: middle;\n    }\n\n    .dataframe tbody tr th {\n        vertical-align: top;\n    }\n\n    .dataframe thead th {\n        text-align: right;\n    }\n</style>\n<table border=\"1\" class=\"dataframe\">\n  <thead>\n    <tr style=\"text-align: right;\">\n      <th></th>\n      <th>level</th>\n      <th>7day</th>\n      <th>realD7</th>\n      <th>realM1</th>\n    </tr>\n    <tr>\n      <th>date</th>\n      <th></th>\n      <th></th>\n      <th></th>\n      <th></th>\n    </tr>\n  </thead>\n  <tbody>\n    <tr>\n      <th>2020-12-24</th>\n      <td>-209.885</td>\n      <td>0.080</td>\n      <td>0.020</td>\n      <td>0.100</td>\n    </tr>\n    <tr>\n      <th>2020-12-23</th>\n      <td>-209.890</td>\n      <td>0.085</td>\n      <td>0.050</td>\n      <td>0.100</td>\n    </tr>\n    <tr>\n      <th>2020-12-22</th>\n      <td>-209.895</td>\n      <td>0.080</td>\n      <td>0.080</td>\n      <td>0.095</td>\n    </tr>\n    <tr>\n      <th>2020-12-21</th>\n      <td>-209.895</td>\n      <td>0.065</td>\n      <td>0.090</td>\n      <td>0.105</td>\n    </tr>\n    <tr>\n      <th>2020-12-20</th>\n      <td>-209.900</td>\n      <td>0.060</td>\n      <td>0.090</td>\n      <td>0.115</td>\n    </tr>\n    <tr>\n      <th>2020-12-17</th>\n      <td>-209.905</td>\n      <td>0.055</td>\n      <td>0.075</td>\n      <td>0.110</td>\n    </tr>\n    <tr>\n      <th>2020-12-16</th>\n      <td>-209.935</td>\n      <td>0.020</td>\n      <td>0.075</td>\n      <td>0.105</td>\n    </tr>\n    <tr>\n      <th>2020-12-15</th>\n      <td>-209.965</td>\n      <td>-0.005</td>\n      <td>0.075</td>\n      <td>0.120</td>\n    </tr>\n    <tr>\n      <th>2020-12-14</th>\n      <td>-209.975</td>\n      <td>-0.030</td>\n      <td>0.070</td>\n      <td>0.120</td>\n    </tr>\n    <tr>\n      <th>2020-12-13</th>\n      <td>-209.975</td>\n      <td>-0.030</td>\n      <td>0.075</td>\n      <td>0.115</td>\n    </tr>\n    <tr>\n      <th>2020-12-10</th>\n      <td>-209.960</td>\n      <td>-0.010</td>\n      <td>0.060</td>\n      <td>0.105</td>\n    </tr>\n    <tr>\n      <th>2020-12-09</th>\n      <td>-209.960</td>\n      <td>-0.005</td>\n      <td>0.060</td>\n      <td>0.105</td>\n    </tr>\n    <tr>\n      <th>2020-12-08</th>\n      <td>-209.960</td>\n      <td>-0.015</td>\n      <td>0.065</td>\n      <td>0.105</td>\n    </tr>\n    <tr>\n      <th>2020-12-07</th>\n      <td>-209.955</td>\n      <td>-0.010</td>\n      <td>0.070</td>\n      <td>0.105</td>\n    </tr>\n    <tr>\n      <th>2020-12-06</th>\n      <td>-209.960</td>\n      <td>-0.020</td>\n      <td>0.060</td>\n      <td>0.090</td>\n    </tr>\n    <tr>\n      <th>2020-12-03</th>\n      <td>-209.945</td>\n      <td>0.010</td>\n      <td>0.070</td>\n      <td>0.105</td>\n    </tr>\n    <tr>\n      <th>2020-12-02</th>\n      <td>-209.945</td>\n      <td>0.035</td>\n      <td>0.095</td>\n      <td>0.100</td>\n    </tr>\n    <tr>\n      <th>2020-12-01</th>\n      <td>-209.950</td>\n      <td>0.035</td>\n      <td>0.100</td>\n      <td>0.095</td>\n    </tr>\n    <tr>\n      <th>2020-11-30</th>\n      <td>-209.955</td>\n      <td>0.030</td>\n      <td>0.100</td>\n      <td>0.085</td>\n    </tr>\n    <tr>\n      <th>2020-11-29</th>\n      <td>-209.945</td>\n      <td>0.035</td>\n      <td>0.095</td>\n      <td>0.080</td>\n    </tr>\n    <tr>\n      <th>2020-11-28</th>\n      <td>-209.945</td>\n      <td>0.045</td>\n      <td>0.105</td>\n      <td>0.075</td>\n    </tr>\n    <tr>\n      <th>2020-11-27</th>\n      <td>-209.940</td>\n      <td>0.060</td>\n      <td>0.115</td>\n      <td>0.070</td>\n    </tr>\n    <tr>\n      <th>2020-11-26</th>\n      <td>-209.955</td>\n      <td>0.050</td>\n      <td>0.120</td>\n      <td>0.060</td>\n    </tr>\n    <tr>\n      <th>2020-11-25</th>\n      <td>-209.980</td>\n      <td>0.020</td>\n      <td>0.115</td>\n      <td>0.050</td>\n    </tr>\n    <tr>\n      <th>2020-11-24</th>\n      <td>-209.985</td>\n      <td>0.010</td>\n      <td>0.110</td>\n      <td>0.045</td>\n    </tr>\n    <tr>\n      <th>2020-11-23</th>\n      <td>-209.985</td>\n      <td>0.005</td>\n      <td>0.105</td>\n      <td>0.030</td>\n    </tr>\n    <tr>\n      <th>2020-11-22</th>\n      <td>-209.980</td>\n      <td>0.025</td>\n      <td>0.120</td>\n      <td>0.025</td>\n    </tr>\n    <tr>\n      <th>2020-11-21</th>\n      <td>-209.990</td>\n      <td>0.015</td>\n      <td>0.120</td>\n      <td>0.015</td>\n    </tr>\n    <tr>\n      <th>2020-11-20</th>\n      <td>-210.000</td>\n      <td>0.000</td>\n      <td>0.115</td>\n      <td>0.015</td>\n    </tr>\n    <tr>\n      <th>2020-11-19</th>\n      <td>-210.005</td>\n      <td>-0.005</td>\n      <td>0.115</td>\n      <td>0.005</td>\n    </tr>\n    <tr>\n      <th>2020-11-18</th>\n      <td>-210.000</td>\n      <td>-0.005</td>\n      <td>0.110</td>\n      <td>0.005</td>\n    </tr>\n    <tr>\n      <th>2020-11-17</th>\n      <td>-209.995</td>\n      <td>-0.005</td>\n      <td>0.105</td>\n      <td>-0.005</td>\n    </tr>\n    <tr>\n      <th>2020-11-16</th>\n      <td>-209.990</td>\n      <td>0.000</td>\n      <td>0.105</td>\n      <td>-0.015</td>\n    </tr>\n    <tr>\n      <th>2020-11-15</th>\n      <td>-210.005</td>\n      <td>-0.030</td>\n      <td>0.105</td>\n      <td>-0.025</td>\n    </tr>\n    <tr>\n      <th>2020-11-14</th>\n      <td>-210.005</td>\n      <td>-0.010</td>\n      <td>0.105</td>\n      <td>-0.025</td>\n    </tr>\n    <tr>\n      <th>2020-11-13</th>\n      <td>-210.000</td>\n      <td>-0.010</td>\n      <td>0.090</td>\n      <td>-0.035</td>\n    </tr>\n    <tr>\n      <th>2020-11-12</th>\n      <td>-210.000</td>\n      <td>-0.015</td>\n      <td>0.090</td>\n      <td>-0.045</td>\n    </tr>\n    <tr>\n      <th>2020-11-11</th>\n      <td>-209.995</td>\n      <td>-0.015</td>\n      <td>0.110</td>\n      <td>-0.045</td>\n    </tr>\n    <tr>\n      <th>2020-11-10</th>\n      <td>-209.990</td>\n      <td>-0.015</td>\n      <td>0.105</td>\n      <td>-0.055</td>\n    </tr>\n    <tr>\n      <th>2020-11-08</th>\n      <td>-209.990</td>\n      <td>-0.020</td>\n      <td>0.095</td>\n      <td>-0.080</td>\n    </tr>\n    <tr>\n      <th>2020-11-05</th>\n      <td>-209.975</td>\n      <td>-0.010</td>\n      <td>0.080</td>\n      <td>-0.095</td>\n    </tr>\n    <tr>\n      <th>2020-11-04</th>\n      <td>-209.995</td>\n      <td>-0.035</td>\n      <td>0.075</td>\n      <td>-0.105</td>\n    </tr>\n    <tr>\n      <th>2020-11-03</th>\n      <td>-209.990</td>\n      <td>-0.035</td>\n      <td>0.070</td>\n      <td>-0.115</td>\n    </tr>\n    <tr>\n      <th>2020-11-02</th>\n      <td>-209.985</td>\n      <td>-0.040</td>\n      <td>0.060</td>\n      <td>-0.125</td>\n    </tr>\n    <tr>\n      <th>2020-11-01</th>\n      <td>-209.980</td>\n      <td>-0.045</td>\n      <td>0.050</td>\n      <td>-0.135</td>\n    </tr>\n    <tr>\n      <th>2020-10-31</th>\n      <td>-209.975</td>\n      <td>-0.045</td>\n      <td>0.045</td>\n      <td>-0.140</td>\n    </tr>\n    <tr>\n      <th>2020-10-30</th>\n      <td>-209.970</td>\n      <td>-0.055</td>\n      <td>0.030</td>\n      <td>-0.140</td>\n    </tr>\n    <tr>\n      <th>2020-10-29</th>\n      <td>-209.965</td>\n      <td>-0.055</td>\n      <td>0.025</td>\n      <td>-0.145</td>\n    </tr>\n    <tr>\n      <th>2020-10-28</th>\n      <td>-209.960</td>\n      <td>-0.060</td>\n      <td>0.015</td>\n      <td>-0.155</td>\n    </tr>\n    <tr>\n      <th>2020-10-27</th>\n      <td>-209.955</td>\n      <td>-0.055</td>\n      <td>0.015</td>\n      <td>-0.160</td>\n    </tr>\n  </tbody>\n</table>\n</div>"
     },
     "metadata": {},
     "execution_count": 62
    }
   ],
   "source": [
    "df.head(50)"
   ]
  }
 ]
}