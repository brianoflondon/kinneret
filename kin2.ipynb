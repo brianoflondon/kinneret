{
 "metadata": {
  "language_info": {
   "codemirror_mode": {
    "name": "ipython",
    "version": 3
   },
   "file_extension": ".py",
   "mimetype": "text/x-python",
   "name": "python",
   "nbconvert_exporter": "python",
   "pygments_lexer": "ipython3",
   "version": "3.8.3-final"
  },
  "orig_nbformat": 2,
  "kernelspec": {
   "name": "python3",
   "display_name": "Python 3",
   "language": "python"
  }
 },
 "nbformat": 4,
 "nbformat_minor": 2,
 "cells": [
  {
   "cell_type": "code",
   "execution_count": 61,
   "metadata": {},
   "outputs": [],
   "source": [
    "import getNewReading as gnr\n",
    "import kinneretDrawGraph as kdg\n",
    "import pandas as pd\n",
    "import math"
   ]
  },
  {
   "cell_type": "code",
   "execution_count": 62,
   "metadata": {},
   "outputs": [
    {
     "output_type": "execute_result",
     "data": {
      "text/plain": [
       "              level\n",
       "date               \n",
       "2020-12-27 -209.900\n",
       "2020-12-26 -209.895\n",
       "2020-12-25 -209.890\n",
       "2020-12-24 -209.885\n",
       "2020-12-23 -209.890\n",
       "...             ...\n",
       "1966-11-01 -210.390\n",
       "1966-10-15 -210.320\n",
       "1966-10-01 -210.270\n",
       "1966-09-15 -210.130\n",
       "1966-09-01 -210.020\n",
       "\n",
       "[9253 rows x 1 columns]"
      ],
      "text/html": "<div>\n<style scoped>\n    .dataframe tbody tr th:only-of-type {\n        vertical-align: middle;\n    }\n\n    .dataframe tbody tr th {\n        vertical-align: top;\n    }\n\n    .dataframe thead th {\n        text-align: right;\n    }\n</style>\n<table border=\"1\" class=\"dataframe\">\n  <thead>\n    <tr style=\"text-align: right;\">\n      <th></th>\n      <th>level</th>\n    </tr>\n    <tr>\n      <th>date</th>\n      <th></th>\n    </tr>\n  </thead>\n  <tbody>\n    <tr>\n      <th>2020-12-27</th>\n      <td>-209.900</td>\n    </tr>\n    <tr>\n      <th>2020-12-26</th>\n      <td>-209.895</td>\n    </tr>\n    <tr>\n      <th>2020-12-25</th>\n      <td>-209.890</td>\n    </tr>\n    <tr>\n      <th>2020-12-24</th>\n      <td>-209.885</td>\n    </tr>\n    <tr>\n      <th>2020-12-23</th>\n      <td>-209.890</td>\n    </tr>\n    <tr>\n      <th>...</th>\n      <td>...</td>\n    </tr>\n    <tr>\n      <th>1966-11-01</th>\n      <td>-210.390</td>\n    </tr>\n    <tr>\n      <th>1966-10-15</th>\n      <td>-210.320</td>\n    </tr>\n    <tr>\n      <th>1966-10-01</th>\n      <td>-210.270</td>\n    </tr>\n    <tr>\n      <th>1966-09-15</th>\n      <td>-210.130</td>\n    </tr>\n    <tr>\n      <th>1966-09-01</th>\n      <td>-210.020</td>\n    </tr>\n  </tbody>\n</table>\n<p>9253 rows × 1 columns</p>\n</div>"
     },
     "metadata": {},
     "execution_count": 62
    }
   ],
   "source": [
    "df = gnr.importReadings()\n",
    "df"
   ]
  },
  {
   "cell_type": "code",
   "execution_count": 80,
   "metadata": {},
   "outputs": [],
   "source": [
    "df['real'] = True\n",
    "\n",
    "upsampled = df.resample('1D')\n",
    "interpolated = upsampled.interpolate(method='polynomial', order=5)\n",
    "interpolated.sort_values(by='date', inplace=True, ascending=False)"
   ]
  },
  {
   "cell_type": "code",
   "execution_count": 81,
   "metadata": {},
   "outputs": [
    {
     "output_type": "execute_result",
     "data": {
      "text/plain": [
       "                 level   real\n",
       "date                         \n",
       "1966-10-20 -210.340328  False\n",
       "1966-10-19 -210.336042  False\n",
       "1966-10-18 -210.331847  False\n",
       "1966-10-17 -210.327766  False\n",
       "1966-10-16 -210.323813  False\n",
       "1966-10-15 -210.320000   True\n",
       "1966-10-14 -210.316328  False\n",
       "1966-10-13 -210.312791  False\n",
       "1966-10-12 -210.309375  False\n",
       "1966-10-11 -210.306057  False\n",
       "1966-10-10 -210.302811  False\n",
       "1966-10-09 -210.299601  False\n",
       "1966-10-08 -210.296389  False\n",
       "1966-10-07 -210.293133  False\n",
       "1966-10-06 -210.289787  False\n",
       "1966-10-05 -210.286303  False\n",
       "1966-10-04 -210.282632  False\n",
       "1966-10-03 -210.278724  False\n",
       "1966-10-02 -210.274529  False\n",
       "1966-10-01 -210.270000   True\n",
       "1966-09-30 -210.265089  False\n",
       "1966-09-29 -210.259754  False\n",
       "1966-09-28 -210.253953  False\n",
       "1966-09-27 -210.247653  False\n",
       "1966-09-26 -210.240822  False\n",
       "1966-09-25 -210.233437  False\n",
       "1966-09-24 -210.225481  False\n",
       "1966-09-23 -210.216946  False\n",
       "1966-09-22 -210.207830  False\n",
       "1966-09-21 -210.198144  False\n",
       "1966-09-20 -210.187908  False\n",
       "1966-09-19 -210.177152  False\n",
       "1966-09-18 -210.165920  False\n",
       "1966-09-17 -210.154268  False\n",
       "1966-09-16 -210.142267  False\n",
       "1966-09-15 -210.130000   True\n",
       "1966-09-14 -210.117568  False\n",
       "1966-09-13 -210.105088  False\n",
       "1966-09-12 -210.092694  False\n",
       "1966-09-11 -210.080537  False\n",
       "1966-09-10 -210.068788  False\n",
       "1966-09-09 -210.057637  False\n",
       "1966-09-08 -210.047295  False\n",
       "1966-09-07 -210.037995  False\n",
       "1966-09-06 -210.029992  False\n",
       "1966-09-05 -210.023563  False\n",
       "1966-09-04 -210.019010  False\n",
       "1966-09-03 -210.016659  False\n",
       "1966-09-02 -210.016863  False\n",
       "1966-09-01 -210.020000   True"
      ],
      "text/html": "<div>\n<style scoped>\n    .dataframe tbody tr th:only-of-type {\n        vertical-align: middle;\n    }\n\n    .dataframe tbody tr th {\n        vertical-align: top;\n    }\n\n    .dataframe thead th {\n        text-align: right;\n    }\n</style>\n<table border=\"1\" class=\"dataframe\">\n  <thead>\n    <tr style=\"text-align: right;\">\n      <th></th>\n      <th>level</th>\n      <th>real</th>\n    </tr>\n    <tr>\n      <th>date</th>\n      <th></th>\n      <th></th>\n    </tr>\n  </thead>\n  <tbody>\n    <tr>\n      <th>1966-10-20</th>\n      <td>-210.340328</td>\n      <td>False</td>\n    </tr>\n    <tr>\n      <th>1966-10-19</th>\n      <td>-210.336042</td>\n      <td>False</td>\n    </tr>\n    <tr>\n      <th>1966-10-18</th>\n      <td>-210.331847</td>\n      <td>False</td>\n    </tr>\n    <tr>\n      <th>1966-10-17</th>\n      <td>-210.327766</td>\n      <td>False</td>\n    </tr>\n    <tr>\n      <th>1966-10-16</th>\n      <td>-210.323813</td>\n      <td>False</td>\n    </tr>\n    <tr>\n      <th>1966-10-15</th>\n      <td>-210.320000</td>\n      <td>True</td>\n    </tr>\n    <tr>\n      <th>1966-10-14</th>\n      <td>-210.316328</td>\n      <td>False</td>\n    </tr>\n    <tr>\n      <th>1966-10-13</th>\n      <td>-210.312791</td>\n      <td>False</td>\n    </tr>\n    <tr>\n      <th>1966-10-12</th>\n      <td>-210.309375</td>\n      <td>False</td>\n    </tr>\n    <tr>\n      <th>1966-10-11</th>\n      <td>-210.306057</td>\n      <td>False</td>\n    </tr>\n    <tr>\n      <th>1966-10-10</th>\n      <td>-210.302811</td>\n      <td>False</td>\n    </tr>\n    <tr>\n      <th>1966-10-09</th>\n      <td>-210.299601</td>\n      <td>False</td>\n    </tr>\n    <tr>\n      <th>1966-10-08</th>\n      <td>-210.296389</td>\n      <td>False</td>\n    </tr>\n    <tr>\n      <th>1966-10-07</th>\n      <td>-210.293133</td>\n      <td>False</td>\n    </tr>\n    <tr>\n      <th>1966-10-06</th>\n      <td>-210.289787</td>\n      <td>False</td>\n    </tr>\n    <tr>\n      <th>1966-10-05</th>\n      <td>-210.286303</td>\n      <td>False</td>\n    </tr>\n    <tr>\n      <th>1966-10-04</th>\n      <td>-210.282632</td>\n      <td>False</td>\n    </tr>\n    <tr>\n      <th>1966-10-03</th>\n      <td>-210.278724</td>\n      <td>False</td>\n    </tr>\n    <tr>\n      <th>1966-10-02</th>\n      <td>-210.274529</td>\n      <td>False</td>\n    </tr>\n    <tr>\n      <th>1966-10-01</th>\n      <td>-210.270000</td>\n      <td>True</td>\n    </tr>\n    <tr>\n      <th>1966-09-30</th>\n      <td>-210.265089</td>\n      <td>False</td>\n    </tr>\n    <tr>\n      <th>1966-09-29</th>\n      <td>-210.259754</td>\n      <td>False</td>\n    </tr>\n    <tr>\n      <th>1966-09-28</th>\n      <td>-210.253953</td>\n      <td>False</td>\n    </tr>\n    <tr>\n      <th>1966-09-27</th>\n      <td>-210.247653</td>\n      <td>False</td>\n    </tr>\n    <tr>\n      <th>1966-09-26</th>\n      <td>-210.240822</td>\n      <td>False</td>\n    </tr>\n    <tr>\n      <th>1966-09-25</th>\n      <td>-210.233437</td>\n      <td>False</td>\n    </tr>\n    <tr>\n      <th>1966-09-24</th>\n      <td>-210.225481</td>\n      <td>False</td>\n    </tr>\n    <tr>\n      <th>1966-09-23</th>\n      <td>-210.216946</td>\n      <td>False</td>\n    </tr>\n    <tr>\n      <th>1966-09-22</th>\n      <td>-210.207830</td>\n      <td>False</td>\n    </tr>\n    <tr>\n      <th>1966-09-21</th>\n      <td>-210.198144</td>\n      <td>False</td>\n    </tr>\n    <tr>\n      <th>1966-09-20</th>\n      <td>-210.187908</td>\n      <td>False</td>\n    </tr>\n    <tr>\n      <th>1966-09-19</th>\n      <td>-210.177152</td>\n      <td>False</td>\n    </tr>\n    <tr>\n      <th>1966-09-18</th>\n      <td>-210.165920</td>\n      <td>False</td>\n    </tr>\n    <tr>\n      <th>1966-09-17</th>\n      <td>-210.154268</td>\n      <td>False</td>\n    </tr>\n    <tr>\n      <th>1966-09-16</th>\n      <td>-210.142267</td>\n      <td>False</td>\n    </tr>\n    <tr>\n      <th>1966-09-15</th>\n      <td>-210.130000</td>\n      <td>True</td>\n    </tr>\n    <tr>\n      <th>1966-09-14</th>\n      <td>-210.117568</td>\n      <td>False</td>\n    </tr>\n    <tr>\n      <th>1966-09-13</th>\n      <td>-210.105088</td>\n      <td>False</td>\n    </tr>\n    <tr>\n      <th>1966-09-12</th>\n      <td>-210.092694</td>\n      <td>False</td>\n    </tr>\n    <tr>\n      <th>1966-09-11</th>\n      <td>-210.080537</td>\n      <td>False</td>\n    </tr>\n    <tr>\n      <th>1966-09-10</th>\n      <td>-210.068788</td>\n      <td>False</td>\n    </tr>\n    <tr>\n      <th>1966-09-09</th>\n      <td>-210.057637</td>\n      <td>False</td>\n    </tr>\n    <tr>\n      <th>1966-09-08</th>\n      <td>-210.047295</td>\n      <td>False</td>\n    </tr>\n    <tr>\n      <th>1966-09-07</th>\n      <td>-210.037995</td>\n      <td>False</td>\n    </tr>\n    <tr>\n      <th>1966-09-06</th>\n      <td>-210.029992</td>\n      <td>False</td>\n    </tr>\n    <tr>\n      <th>1966-09-05</th>\n      <td>-210.023563</td>\n      <td>False</td>\n    </tr>\n    <tr>\n      <th>1966-09-04</th>\n      <td>-210.019010</td>\n      <td>False</td>\n    </tr>\n    <tr>\n      <th>1966-09-03</th>\n      <td>-210.016659</td>\n      <td>False</td>\n    </tr>\n    <tr>\n      <th>1966-09-02</th>\n      <td>-210.016863</td>\n      <td>False</td>\n    </tr>\n    <tr>\n      <th>1966-09-01</th>\n      <td>-210.020000</td>\n      <td>True</td>\n    </tr>\n  </tbody>\n</table>\n</div>"
     },
     "metadata": {},
     "execution_count": 81
    }
   ],
   "source": [
    "interpolated.fillna(value=False, inplace=True)\n",
    "interpolated.tail(50)"
   ]
  },
  {
   "cell_type": "code",
   "execution_count": null,
   "metadata": {},
   "outputs": [],
   "source": [
    "dataFile = 'data/levels-pd-calc2.csv'\n",
    "colHead = ['level','1day','7day','1month']\n",
    "df.round({'1day': 3,'7day': 3, '1month': 3}).to_csv(dataFile, index_label='date', columns=colHead)"
   ]
  },
  {
   "cell_type": "code",
   "execution_count": null,
   "metadata": {},
   "outputs": [],
   "source": [
    "dateOff = pd.DateOffset(days=-1)\n",
    "ind = df.index[5]\n",
    "# df['1dayT'] = [gnr.naCheckDelta(df,x,y,dateOff1d) for x,y in zip(df.index,df['1day'])]\n",
    "# df['gap'] = [x for x in df.]\n",
    "timeAgo = dateOff + ind\n",
    "filt = df.index.get_loc(timeAgo, method='nearest')\n",
    "oldLevel = df.iloc[filt]\n",
    "\n",
    "print(oldLevel)"
   ]
  }
 ]
}