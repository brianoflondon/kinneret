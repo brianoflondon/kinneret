{
 "metadata": {
  "language_info": {
   "codemirror_mode": {
    "name": "ipython",
    "version": 3
   },
   "file_extension": ".py",
   "mimetype": "text/x-python",
   "name": "python",
   "nbconvert_exporter": "python",
   "pygments_lexer": "ipython3",
   "version": "3.8.3-final"
  },
  "orig_nbformat": 2,
  "kernelspec": {
   "name": "python3",
   "display_name": "Python 3",
   "language": "python"
  }
 },
 "nbformat": 4,
 "nbformat_minor": 2,
 "cells": [
  {
   "cell_type": "code",
   "execution_count": 2,
   "metadata": {},
   "outputs": [],
   "source": [
    "import getNewReading as gnr\n",
    "import kinneretDrawGraph as kdg\n",
    "import pandas as pd\n",
    "import math"
   ]
  },
  {
   "cell_type": "code",
   "execution_count": 3,
   "metadata": {},
   "outputs": [
    {
     "output_type": "execute_result",
     "data": {
      "text/plain": [
       "              level\n",
       "date               \n",
       "2020-12-27 -209.900\n",
       "2020-12-26 -209.895\n",
       "2020-12-25 -209.890\n",
       "2020-12-24 -209.885\n",
       "2020-12-23 -209.890\n",
       "...             ...\n",
       "1966-11-01 -210.390\n",
       "1966-10-15 -210.320\n",
       "1966-10-01 -210.270\n",
       "1966-09-15 -210.130\n",
       "1966-09-01 -210.020\n",
       "\n",
       "[9253 rows x 1 columns]"
      ],
      "text/html": "<div>\n<style scoped>\n    .dataframe tbody tr th:only-of-type {\n        vertical-align: middle;\n    }\n\n    .dataframe tbody tr th {\n        vertical-align: top;\n    }\n\n    .dataframe thead th {\n        text-align: right;\n    }\n</style>\n<table border=\"1\" class=\"dataframe\">\n  <thead>\n    <tr style=\"text-align: right;\">\n      <th></th>\n      <th>level</th>\n    </tr>\n    <tr>\n      <th>date</th>\n      <th></th>\n    </tr>\n  </thead>\n  <tbody>\n    <tr>\n      <th>2020-12-27</th>\n      <td>-209.900</td>\n    </tr>\n    <tr>\n      <th>2020-12-26</th>\n      <td>-209.895</td>\n    </tr>\n    <tr>\n      <th>2020-12-25</th>\n      <td>-209.890</td>\n    </tr>\n    <tr>\n      <th>2020-12-24</th>\n      <td>-209.885</td>\n    </tr>\n    <tr>\n      <th>2020-12-23</th>\n      <td>-209.890</td>\n    </tr>\n    <tr>\n      <th>...</th>\n      <td>...</td>\n    </tr>\n    <tr>\n      <th>1966-11-01</th>\n      <td>-210.390</td>\n    </tr>\n    <tr>\n      <th>1966-10-15</th>\n      <td>-210.320</td>\n    </tr>\n    <tr>\n      <th>1966-10-01</th>\n      <td>-210.270</td>\n    </tr>\n    <tr>\n      <th>1966-09-15</th>\n      <td>-210.130</td>\n    </tr>\n    <tr>\n      <th>1966-09-01</th>\n      <td>-210.020</td>\n    </tr>\n  </tbody>\n</table>\n<p>9253 rows × 1 columns</p>\n</div>"
     },
     "metadata": {},
     "execution_count": 3
    }
   ],
   "source": [
    "df = gnr.importReadings()\n",
    "df"
   ]
  },
  {
   "cell_type": "code",
   "execution_count": 4,
   "metadata": {},
   "outputs": [],
   "source": [
    "df['real'] = True\n",
    "\n",
    "upsampled = df.resample('1D')\n",
    "inter = upsampled.interpolate(method='cubicspline')\n",
    "inter.sort_values(by='date', inplace=True, ascending=False)"
   ]
  },
  {
   "cell_type": "code",
   "execution_count": 5,
   "metadata": {},
   "outputs": [
    {
     "output_type": "execute_result",
     "data": {
      "text/plain": [
       "                 level   real\n",
       "date                         \n",
       "1966-10-20 -210.337375  False\n",
       "1966-10-19 -210.333597  False\n",
       "1966-10-18 -210.329960  False\n",
       "1966-10-17 -210.326474  False\n",
       "1966-10-16 -210.323151  False\n",
       "1966-10-15 -210.320000   True\n",
       "1966-10-14 -210.317021  False\n",
       "1966-10-13 -210.314169  False\n",
       "1966-10-12 -210.311391  False\n",
       "1966-10-11 -210.308631  False\n",
       "1966-10-10 -210.305835  False\n",
       "1966-10-09 -210.302948  False\n",
       "1966-10-08 -210.299915  False\n",
       "1966-10-07 -210.296681  False\n",
       "1966-10-06 -210.293192  False\n",
       "1966-10-05 -210.289392  False\n",
       "1966-10-04 -210.285228  False\n",
       "1966-10-03 -210.280645  False\n",
       "1966-10-02 -210.275587  False\n",
       "1966-10-01 -210.270000   True\n",
       "1966-09-30 -210.263845  False\n",
       "1966-09-29 -210.257149  False\n",
       "1966-09-28 -210.249953  False\n",
       "1966-09-27 -210.242298  False\n",
       "1966-09-26 -210.234228  False\n",
       "1966-09-25 -210.225784  False\n",
       "1966-09-24 -210.217007  False\n",
       "1966-09-23 -210.207941  False\n",
       "1966-09-22 -210.198626  False\n",
       "1966-09-21 -210.189105  False\n",
       "1966-09-20 -210.179420  False\n",
       "1966-09-19 -210.169613  False\n",
       "1966-09-18 -210.159725  False\n",
       "1966-09-17 -210.149799  False\n",
       "1966-09-16 -210.139877  False\n",
       "1966-09-15 -210.130000   True\n",
       "1966-09-14 -210.120211  False\n",
       "1966-09-13 -210.110551  False\n",
       "1966-09-12 -210.101062  False\n",
       "1966-09-11 -210.091787  False\n",
       "1966-09-10 -210.082767  False\n",
       "1966-09-09 -210.074044  False\n",
       "1966-09-08 -210.065661  False\n",
       "1966-09-07 -210.057659  False\n",
       "1966-09-06 -210.050080  False\n",
       "1966-09-05 -210.042966  False\n",
       "1966-09-04 -210.036359  False\n",
       "1966-09-03 -210.030301  False\n",
       "1966-09-02 -210.024834  False\n",
       "1966-09-01 -210.020000   True"
      ],
      "text/html": "<div>\n<style scoped>\n    .dataframe tbody tr th:only-of-type {\n        vertical-align: middle;\n    }\n\n    .dataframe tbody tr th {\n        vertical-align: top;\n    }\n\n    .dataframe thead th {\n        text-align: right;\n    }\n</style>\n<table border=\"1\" class=\"dataframe\">\n  <thead>\n    <tr style=\"text-align: right;\">\n      <th></th>\n      <th>level</th>\n      <th>real</th>\n    </tr>\n    <tr>\n      <th>date</th>\n      <th></th>\n      <th></th>\n    </tr>\n  </thead>\n  <tbody>\n    <tr>\n      <th>1966-10-20</th>\n      <td>-210.337375</td>\n      <td>False</td>\n    </tr>\n    <tr>\n      <th>1966-10-19</th>\n      <td>-210.333597</td>\n      <td>False</td>\n    </tr>\n    <tr>\n      <th>1966-10-18</th>\n      <td>-210.329960</td>\n      <td>False</td>\n    </tr>\n    <tr>\n      <th>1966-10-17</th>\n      <td>-210.326474</td>\n      <td>False</td>\n    </tr>\n    <tr>\n      <th>1966-10-16</th>\n      <td>-210.323151</td>\n      <td>False</td>\n    </tr>\n    <tr>\n      <th>1966-10-15</th>\n      <td>-210.320000</td>\n      <td>True</td>\n    </tr>\n    <tr>\n      <th>1966-10-14</th>\n      <td>-210.317021</td>\n      <td>False</td>\n    </tr>\n    <tr>\n      <th>1966-10-13</th>\n      <td>-210.314169</td>\n      <td>False</td>\n    </tr>\n    <tr>\n      <th>1966-10-12</th>\n      <td>-210.311391</td>\n      <td>False</td>\n    </tr>\n    <tr>\n      <th>1966-10-11</th>\n      <td>-210.308631</td>\n      <td>False</td>\n    </tr>\n    <tr>\n      <th>1966-10-10</th>\n      <td>-210.305835</td>\n      <td>False</td>\n    </tr>\n    <tr>\n      <th>1966-10-09</th>\n      <td>-210.302948</td>\n      <td>False</td>\n    </tr>\n    <tr>\n      <th>1966-10-08</th>\n      <td>-210.299915</td>\n      <td>False</td>\n    </tr>\n    <tr>\n      <th>1966-10-07</th>\n      <td>-210.296681</td>\n      <td>False</td>\n    </tr>\n    <tr>\n      <th>1966-10-06</th>\n      <td>-210.293192</td>\n      <td>False</td>\n    </tr>\n    <tr>\n      <th>1966-10-05</th>\n      <td>-210.289392</td>\n      <td>False</td>\n    </tr>\n    <tr>\n      <th>1966-10-04</th>\n      <td>-210.285228</td>\n      <td>False</td>\n    </tr>\n    <tr>\n      <th>1966-10-03</th>\n      <td>-210.280645</td>\n      <td>False</td>\n    </tr>\n    <tr>\n      <th>1966-10-02</th>\n      <td>-210.275587</td>\n      <td>False</td>\n    </tr>\n    <tr>\n      <th>1966-10-01</th>\n      <td>-210.270000</td>\n      <td>True</td>\n    </tr>\n    <tr>\n      <th>1966-09-30</th>\n      <td>-210.263845</td>\n      <td>False</td>\n    </tr>\n    <tr>\n      <th>1966-09-29</th>\n      <td>-210.257149</td>\n      <td>False</td>\n    </tr>\n    <tr>\n      <th>1966-09-28</th>\n      <td>-210.249953</td>\n      <td>False</td>\n    </tr>\n    <tr>\n      <th>1966-09-27</th>\n      <td>-210.242298</td>\n      <td>False</td>\n    </tr>\n    <tr>\n      <th>1966-09-26</th>\n      <td>-210.234228</td>\n      <td>False</td>\n    </tr>\n    <tr>\n      <th>1966-09-25</th>\n      <td>-210.225784</td>\n      <td>False</td>\n    </tr>\n    <tr>\n      <th>1966-09-24</th>\n      <td>-210.217007</td>\n      <td>False</td>\n    </tr>\n    <tr>\n      <th>1966-09-23</th>\n      <td>-210.207941</td>\n      <td>False</td>\n    </tr>\n    <tr>\n      <th>1966-09-22</th>\n      <td>-210.198626</td>\n      <td>False</td>\n    </tr>\n    <tr>\n      <th>1966-09-21</th>\n      <td>-210.189105</td>\n      <td>False</td>\n    </tr>\n    <tr>\n      <th>1966-09-20</th>\n      <td>-210.179420</td>\n      <td>False</td>\n    </tr>\n    <tr>\n      <th>1966-09-19</th>\n      <td>-210.169613</td>\n      <td>False</td>\n    </tr>\n    <tr>\n      <th>1966-09-18</th>\n      <td>-210.159725</td>\n      <td>False</td>\n    </tr>\n    <tr>\n      <th>1966-09-17</th>\n      <td>-210.149799</td>\n      <td>False</td>\n    </tr>\n    <tr>\n      <th>1966-09-16</th>\n      <td>-210.139877</td>\n      <td>False</td>\n    </tr>\n    <tr>\n      <th>1966-09-15</th>\n      <td>-210.130000</td>\n      <td>True</td>\n    </tr>\n    <tr>\n      <th>1966-09-14</th>\n      <td>-210.120211</td>\n      <td>False</td>\n    </tr>\n    <tr>\n      <th>1966-09-13</th>\n      <td>-210.110551</td>\n      <td>False</td>\n    </tr>\n    <tr>\n      <th>1966-09-12</th>\n      <td>-210.101062</td>\n      <td>False</td>\n    </tr>\n    <tr>\n      <th>1966-09-11</th>\n      <td>-210.091787</td>\n      <td>False</td>\n    </tr>\n    <tr>\n      <th>1966-09-10</th>\n      <td>-210.082767</td>\n      <td>False</td>\n    </tr>\n    <tr>\n      <th>1966-09-09</th>\n      <td>-210.074044</td>\n      <td>False</td>\n    </tr>\n    <tr>\n      <th>1966-09-08</th>\n      <td>-210.065661</td>\n      <td>False</td>\n    </tr>\n    <tr>\n      <th>1966-09-07</th>\n      <td>-210.057659</td>\n      <td>False</td>\n    </tr>\n    <tr>\n      <th>1966-09-06</th>\n      <td>-210.050080</td>\n      <td>False</td>\n    </tr>\n    <tr>\n      <th>1966-09-05</th>\n      <td>-210.042966</td>\n      <td>False</td>\n    </tr>\n    <tr>\n      <th>1966-09-04</th>\n      <td>-210.036359</td>\n      <td>False</td>\n    </tr>\n    <tr>\n      <th>1966-09-03</th>\n      <td>-210.030301</td>\n      <td>False</td>\n    </tr>\n    <tr>\n      <th>1966-09-02</th>\n      <td>-210.024834</td>\n      <td>False</td>\n    </tr>\n    <tr>\n      <th>1966-09-01</th>\n      <td>-210.020000</td>\n      <td>True</td>\n    </tr>\n  </tbody>\n</table>\n</div>"
     },
     "metadata": {},
     "execution_count": 5
    }
   ],
   "source": [
    "inter.fillna(value=False, inplace=True)\n",
    "inter.tail(50)"
   ]
  },
  {
   "cell_type": "code",
   "execution_count": 6,
   "metadata": {},
   "outputs": [
    {
     "output_type": "execute_result",
     "data": {
      "text/plain": [
       "                 level   real   1day-cm   7day-cm\n",
       "date                                             \n",
       "2020-12-27 -209.900000   True -0.500000  0.000000\n",
       "2020-12-26 -209.895000   True -0.500000  0.274999\n",
       "2020-12-25 -209.890000   True -0.500000  0.490148\n",
       "2020-12-24 -209.885000   True  0.500000  2.000000\n",
       "2020-12-23 -209.890000   True  0.500000  4.500000\n",
       "...                ...    ...       ...       ...\n",
       "1966-09-12 -210.101062  False -0.927520 -5.809629\n",
       "1966-09-11 -210.091787  False -0.901988 -5.542800\n",
       "1966-09-10 -210.082767  False -0.872261 -5.246601\n",
       "1966-09-09 -210.074044  False -0.838338 -4.921034\n",
       "1966-09-08 -210.065661  False -0.800220 -4.566098\n",
       "\n",
       "[19835 rows x 4 columns]"
      ],
      "text/html": "<div>\n<style scoped>\n    .dataframe tbody tr th:only-of-type {\n        vertical-align: middle;\n    }\n\n    .dataframe tbody tr th {\n        vertical-align: top;\n    }\n\n    .dataframe thead th {\n        text-align: right;\n    }\n</style>\n<table border=\"1\" class=\"dataframe\">\n  <thead>\n    <tr style=\"text-align: right;\">\n      <th></th>\n      <th>level</th>\n      <th>real</th>\n      <th>1day-cm</th>\n      <th>7day-cm</th>\n    </tr>\n    <tr>\n      <th>date</th>\n      <th></th>\n      <th></th>\n      <th></th>\n      <th></th>\n    </tr>\n  </thead>\n  <tbody>\n    <tr>\n      <th>2020-12-27</th>\n      <td>-209.900000</td>\n      <td>True</td>\n      <td>-0.500000</td>\n      <td>0.000000</td>\n    </tr>\n    <tr>\n      <th>2020-12-26</th>\n      <td>-209.895000</td>\n      <td>True</td>\n      <td>-0.500000</td>\n      <td>0.274999</td>\n    </tr>\n    <tr>\n      <th>2020-12-25</th>\n      <td>-209.890000</td>\n      <td>True</td>\n      <td>-0.500000</td>\n      <td>0.490148</td>\n    </tr>\n    <tr>\n      <th>2020-12-24</th>\n      <td>-209.885000</td>\n      <td>True</td>\n      <td>0.500000</td>\n      <td>2.000000</td>\n    </tr>\n    <tr>\n      <th>2020-12-23</th>\n      <td>-209.890000</td>\n      <td>True</td>\n      <td>0.500000</td>\n      <td>4.500000</td>\n    </tr>\n    <tr>\n      <th>...</th>\n      <td>...</td>\n      <td>...</td>\n      <td>...</td>\n      <td>...</td>\n    </tr>\n    <tr>\n      <th>1966-09-12</th>\n      <td>-210.101062</td>\n      <td>False</td>\n      <td>-0.927520</td>\n      <td>-5.809629</td>\n    </tr>\n    <tr>\n      <th>1966-09-11</th>\n      <td>-210.091787</td>\n      <td>False</td>\n      <td>-0.901988</td>\n      <td>-5.542800</td>\n    </tr>\n    <tr>\n      <th>1966-09-10</th>\n      <td>-210.082767</td>\n      <td>False</td>\n      <td>-0.872261</td>\n      <td>-5.246601</td>\n    </tr>\n    <tr>\n      <th>1966-09-09</th>\n      <td>-210.074044</td>\n      <td>False</td>\n      <td>-0.838338</td>\n      <td>-4.921034</td>\n    </tr>\n    <tr>\n      <th>1966-09-08</th>\n      <td>-210.065661</td>\n      <td>False</td>\n      <td>-0.800220</td>\n      <td>-4.566098</td>\n    </tr>\n  </tbody>\n</table>\n<p>19835 rows × 4 columns</p>\n</div>"
     },
     "metadata": {},
     "execution_count": 6
    }
   ],
   "source": [
    "inter.sort_values(by='date', ascending=False, inplace=True)\n",
    "inter['1day-cm'] = inter['level'].diff(periods=-1) * 100\n",
    "inter['7day-cm'] = inter['level'].diff(periods=-7) * 100\n",
    "inter.dropna(inplace=True)\n",
    "inter"
   ]
  },
  {
   "cell_type": "code",
   "execution_count": 8,
   "metadata": {},
   "outputs": [
    {
     "output_type": "execute_result",
     "data": {
      "text/plain": [
       "                 level   real    1day-cm    7day-cm\n",
       "date                                               \n",
       "1973-07-22 -210.620000   True  -6.095930  -7.000000\n",
       "1973-07-21 -210.559041  False  -6.037832   0.454012\n",
       "1993-06-24 -208.940000   True  -6.000000  -9.000000\n",
       "1980-08-29 -209.740000   True  -6.000000 -19.818172\n",
       "1980-08-28 -209.680000   True  -5.141468 -13.290472\n",
       "...                ...    ...        ...        ...\n",
       "2003-02-22 -212.474569  False  17.543089  51.605588\n",
       "2003-02-05 -213.370000   True  20.000000  43.000000\n",
       "1995-02-08 -209.410000   True  21.000000  34.000000\n",
       "2013-01-08 -211.500000   True  22.000000  40.000000\n",
       "2020-01-09 -211.100000   True  23.000000  43.000000\n",
       "\n",
       "[19835 rows x 4 columns]"
      ],
      "text/html": "<div>\n<style scoped>\n    .dataframe tbody tr th:only-of-type {\n        vertical-align: middle;\n    }\n\n    .dataframe tbody tr th {\n        vertical-align: top;\n    }\n\n    .dataframe thead th {\n        text-align: right;\n    }\n</style>\n<table border=\"1\" class=\"dataframe\">\n  <thead>\n    <tr style=\"text-align: right;\">\n      <th></th>\n      <th>level</th>\n      <th>real</th>\n      <th>1day-cm</th>\n      <th>7day-cm</th>\n    </tr>\n    <tr>\n      <th>date</th>\n      <th></th>\n      <th></th>\n      <th></th>\n      <th></th>\n    </tr>\n  </thead>\n  <tbody>\n    <tr>\n      <th>1973-07-22</th>\n      <td>-210.620000</td>\n      <td>True</td>\n      <td>-6.095930</td>\n      <td>-7.000000</td>\n    </tr>\n    <tr>\n      <th>1973-07-21</th>\n      <td>-210.559041</td>\n      <td>False</td>\n      <td>-6.037832</td>\n      <td>0.454012</td>\n    </tr>\n    <tr>\n      <th>1993-06-24</th>\n      <td>-208.940000</td>\n      <td>True</td>\n      <td>-6.000000</td>\n      <td>-9.000000</td>\n    </tr>\n    <tr>\n      <th>1980-08-29</th>\n      <td>-209.740000</td>\n      <td>True</td>\n      <td>-6.000000</td>\n      <td>-19.818172</td>\n    </tr>\n    <tr>\n      <th>1980-08-28</th>\n      <td>-209.680000</td>\n      <td>True</td>\n      <td>-5.141468</td>\n      <td>-13.290472</td>\n    </tr>\n    <tr>\n      <th>...</th>\n      <td>...</td>\n      <td>...</td>\n      <td>...</td>\n      <td>...</td>\n    </tr>\n    <tr>\n      <th>2003-02-22</th>\n      <td>-212.474569</td>\n      <td>False</td>\n      <td>17.543089</td>\n      <td>51.605588</td>\n    </tr>\n    <tr>\n      <th>2003-02-05</th>\n      <td>-213.370000</td>\n      <td>True</td>\n      <td>20.000000</td>\n      <td>43.000000</td>\n    </tr>\n    <tr>\n      <th>1995-02-08</th>\n      <td>-209.410000</td>\n      <td>True</td>\n      <td>21.000000</td>\n      <td>34.000000</td>\n    </tr>\n    <tr>\n      <th>2013-01-08</th>\n      <td>-211.500000</td>\n      <td>True</td>\n      <td>22.000000</td>\n      <td>40.000000</td>\n    </tr>\n    <tr>\n      <th>2020-01-09</th>\n      <td>-211.100000</td>\n      <td>True</td>\n      <td>23.000000</td>\n      <td>43.000000</td>\n    </tr>\n  </tbody>\n</table>\n<p>19835 rows × 4 columns</p>\n</div>"
     },
     "metadata": {},
     "execution_count": 8
    }
   ],
   "source": [
    "inter.sort_values('1day-cm', inplace=True)\n",
    "inter"
   ]
  },
  {
   "cell_type": "code",
   "execution_count": 12,
   "metadata": {},
   "outputs": [
    {
     "output_type": "execute_result",
     "data": {
      "text/plain": [
       "              level       1day-cm       7day-cm\n",
       "count  19835.000000  19835.000000  19835.000000\n",
       "mean    -211.078522      0.000795      0.005103\n",
       "std        1.567185      1.434881      8.671591\n",
       "min     -214.870000     -6.095930    -26.097368\n",
       "25%     -212.220000     -0.875357     -5.520421\n",
       "50%     -210.820000     -0.280480     -2.000000\n",
       "75%     -209.790000      0.489626      3.238520\n",
       "max     -208.158269     23.000000     88.850369"
      ],
      "text/html": "<div>\n<style scoped>\n    .dataframe tbody tr th:only-of-type {\n        vertical-align: middle;\n    }\n\n    .dataframe tbody tr th {\n        vertical-align: top;\n    }\n\n    .dataframe thead th {\n        text-align: right;\n    }\n</style>\n<table border=\"1\" class=\"dataframe\">\n  <thead>\n    <tr style=\"text-align: right;\">\n      <th></th>\n      <th>level</th>\n      <th>1day-cm</th>\n      <th>7day-cm</th>\n    </tr>\n  </thead>\n  <tbody>\n    <tr>\n      <th>count</th>\n      <td>19835.000000</td>\n      <td>19835.000000</td>\n      <td>19835.000000</td>\n    </tr>\n    <tr>\n      <th>mean</th>\n      <td>-211.078522</td>\n      <td>0.000795</td>\n      <td>0.005103</td>\n    </tr>\n    <tr>\n      <th>std</th>\n      <td>1.567185</td>\n      <td>1.434881</td>\n      <td>8.671591</td>\n    </tr>\n    <tr>\n      <th>min</th>\n      <td>-214.870000</td>\n      <td>-6.095930</td>\n      <td>-26.097368</td>\n    </tr>\n    <tr>\n      <th>25%</th>\n      <td>-212.220000</td>\n      <td>-0.875357</td>\n      <td>-5.520421</td>\n    </tr>\n    <tr>\n      <th>50%</th>\n      <td>-210.820000</td>\n      <td>-0.280480</td>\n      <td>-2.000000</td>\n    </tr>\n    <tr>\n      <th>75%</th>\n      <td>-209.790000</td>\n      <td>0.489626</td>\n      <td>3.238520</td>\n    </tr>\n    <tr>\n      <th>max</th>\n      <td>-208.158269</td>\n      <td>23.000000</td>\n      <td>88.850369</td>\n    </tr>\n  </tbody>\n</table>\n</div>"
     },
     "metadata": {},
     "execution_count": 12
    }
   ],
   "source": [
    "inter.describe()\n"
   ]
  }
 ]
}